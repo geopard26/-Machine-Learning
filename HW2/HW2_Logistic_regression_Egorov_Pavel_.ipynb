{
  "cells": [
    {
      "cell_type": "markdown",
      "metadata": {
        "id": "5ipbGDPssALu"
      },
      "source": [
        "### Домашняя работа 2.\n",
        "### Логистическая регрессия. Работа с признаками"
      ]
    },
    {
      "cell_type": "markdown",
      "metadata": {
        "id": "N-grwzousAL3"
      },
      "source": [
        "\n",
        "### Оценивание и штрафы\n",
        "Каждая из задач имеет определенную «стоимость» (указана в скобках около задачи). Максимально допустимая оценка за работу — 15 баллов. Можно получить 4.5 бонусных балла.\n",
        "\n",
        "Неэффективная реализация кода может негативно отразиться на оценке."
      ]
    },
    {
      "cell_type": "code",
      "execution_count": null,
      "metadata": {
        "id": "cMWjiVwKsAL4",
        "outputId": "717c14b7-08e9-4343-e7ec-71d7f92350f9"
      },
      "outputs": [
        {
          "name": "stdout",
          "output_type": "stream",
          "text": [
            "Всем удачи!👒 Тут она точно пригодится.\n"
          ]
        }
      ],
      "source": [
        "print('Всем удачи!👒 Тут она точно пригодится.')"
      ]
    },
    {
      "cell_type": "code",
      "execution_count": 7,
      "metadata": {
        "ExecuteTime": {
          "end_time": "2019-10-16T18:11:48.202066Z",
          "start_time": "2019-10-16T18:11:46.362572Z"
        },
        "id": "lXxR4aR2sAL8",
        "colab": {
          "base_uri": "https://localhost:8080/"
        },
        "outputId": "aefef6cf-5ab4-43c3-de62-5057665a8f5d"
      },
      "outputs": [
        {
          "output_type": "stream",
          "name": "stdout",
          "text": [
            "Populating the interactive namespace from numpy and matplotlib\n"
          ]
        }
      ],
      "source": [
        "%pylab inline\n",
        "import pandas as pd\n",
        "from sklearn.datasets import make_classification\n",
        "from sklearn.model_selection import train_test_split"
      ]
    },
    {
      "cell_type": "markdown",
      "metadata": {
        "id": "p8voi9ZhsAL8"
      },
      "source": [
        "## Часть 1. Логистическая регрессия своими руками (4 балла)"
      ]
    },
    {
      "cell_type": "markdown",
      "metadata": {
        "ExecuteTime": {
          "end_time": "2018-10-12T07:36:04.765536Z",
          "start_time": "2018-10-12T07:35:57.814973Z"
        },
        "id": "qwA7GFd0sAL8"
      },
      "source": [
        "Реализуйте логистическую регрессию, обучаемую с помощью:\n",
        "\n",
        "**Задание 1 (1.5 балла). Градиентного спуска**\n",
        "\n",
        "**Задание 2 (1.5 балла). Стохастического градиентного спуска**\n",
        "\n",
        "Во всех пунктах необходимо соблюдать следующие условия:\n",
        "- Градиентный спуск необходимо записать в векторном виде\n",
        "- Циклы средствами python допускается использовать только для итераций градиентного спуска;\n",
        "- В качестве критерия останова необходимо использовать (одновременно):\n",
        "\n",
        "        проверку на евклидову норму разности весов на двух соседних итерациях (например, меньше некоторого малого числа порядка $10^{-6}$) задаваемого параметром `tolerance`;\n",
        "\n",
        "\n",
        "        достижение максимального числа итераций (например, 10000), задаваемого параметром `max_iter`.\n",
        "\n",
        "Чтобы проследить, что оптимизационный процесс действительно сходится, будем использовать атрибут класса loss_history. В нём после вызова метода fit должны содержаться значения функции потерь для всех итераций, начиная с первой (до совершения первого шага по антиградиенту);\n",
        "\n",
        "Инициализировать веса можно случайным образом или нулевым вектором."
      ]
    },
    {
      "cell_type": "markdown",
      "metadata": {
        "id": "4znehRvvsAL9"
      },
      "source": [
        "Полезно [почитать](https://scikit-learn.org/stable/developers/develop.html)."
      ]
    },
    {
      "cell_type": "code",
      "source": [
        "import numpy as np\n",
        "from sklearn.base import BaseEstimator\n",
        "\n",
        "class LogReg(BaseEstimator):\n",
        "    def __init__(self, gd_type='stochastic',\n",
        "                 tolerance=1e-5, max_iter=100, w0=None, eta=1e-2):\n",
        "        self.gd_type = gd_type\n",
        "        self.tolerance = tolerance\n",
        "        self.max_iter = max_iter\n",
        "        self.w0 = w0\n",
        "        self.w = w0\n",
        "        self.eta = eta\n",
        "        self.loss_history = None # list of loss function values at each training iteration\n",
        "\n",
        "    def fit(self, X, y):\n",
        "        if self.w0 is None:\n",
        "            self.w0 = np.zeros(X.shape[1])\n",
        "        self.w = self.w0\n",
        "        self.loss_history = [self.calc_loss(X, y)]\n",
        "\n",
        "        for _ in range(self.max_iter):\n",
        "            grad = self.calc_gradient(X, y)\n",
        "            self.w -= self.eta * grad\n",
        "            if np.linalg.norm(grad) < self.tolerance:\n",
        "                break\n",
        "            self.loss_history.append(self.calc_loss(X, y))\n",
        "\n",
        "        return self\n",
        "\n",
        "    def predict_proba(self, X):\n",
        "        if self.w is None:\n",
        "            raise Exception('Not trained yet')\n",
        "        z = X.dot(self.w)\n",
        "        return 1 / (1 + np.exp(-z))\n",
        "\n",
        "\n",
        "    def predict(self, X):\n",
        "        if self.w is None:\n",
        "            raise Exception('Not trained yet')\n",
        "        probas = self.predict_proba(X)\n",
        "        predictions = (probas > 0.5).astype(int)\n",
        "        return predictions\n",
        "\n",
        "    def calc_gradient(self, X, y):\n",
        "        probabilities = self.predict_proba(X)\n",
        "        grad = (-1 / X.shape[0]) * (y - probabilities).dot(X)\n",
        "        return grad\n",
        "\n",
        "    def calc_loss(self, X, y):\n",
        "        z = X.dot(self.w)\n",
        "        probability = 1 / (1 + np.exp(-z))\n",
        "        epsilon = 1e-15\n",
        "        loss = (-1 / X.shape[0]) * (y * np.log(probability + epsilon) + (1 - y) * np.log(1 - probability + epsilon)).sum()\n",
        "        return loss"
      ],
      "metadata": {
        "id": "X9dro1hp6ix3"
      },
      "execution_count": 8,
      "outputs": []
    },
    {
      "cell_type": "markdown",
      "metadata": {
        "id": "sA281lp5sAL_"
      },
      "source": [
        "Синтетические данные"
      ]
    },
    {
      "cell_type": "code",
      "execution_count": 9,
      "metadata": {
        "id": "GnsBi0oosAL_",
        "colab": {
          "base_uri": "https://localhost:8080/"
        },
        "outputId": "e986b94b-8e5d-4167-9411-1df9083b370b"
      },
      "outputs": [
        {
          "output_type": "stream",
          "name": "stdout",
          "text": [
            "Populating the interactive namespace from numpy and matplotlib\n"
          ]
        }
      ],
      "source": [
        "%pylab inline\n",
        "import pandas as pd\n",
        "from sklearn.datasets import make_classification\n",
        "from sklearn.model_selection import train_test_split"
      ]
    },
    {
      "cell_type": "code",
      "execution_count": 10,
      "metadata": {
        "id": "0suDunFIsAMA"
      },
      "outputs": [],
      "source": [
        "X, y = make_classification(\n",
        "    n_samples=100000, n_features=20, n_informative=10, n_redundant=10,\n",
        "    random_state=42)\n",
        "\n",
        "X_train, X_test, y_train, y_test = train_test_split(\n",
        "    X, y, test_size=0.3, random_state=42)"
      ]
    },
    {
      "cell_type": "markdown",
      "metadata": {
        "id": "ObcusyXysAMB"
      },
      "source": [
        "**Важно:** далее предполагается, что вы используете собственную реализацию логистической регрессии.\n",
        "Если с написанием класса возникли проблемы, используйте реализацию sklearn, чтобы не терять баллы за остальные задания."
      ]
    },
    {
      "cell_type": "markdown",
      "metadata": {
        "id": "aUycgm0OsAMC"
      },
      "source": [
        "**Задание 3 (1 балл)**\n",
        "\n",
        "Обучите логистическую регрессию на синтетических данных."
      ]
    },
    {
      "cell_type": "code",
      "execution_count": 11,
      "metadata": {
        "ExecuteTime": {
          "end_time": "2018-10-11T20:39:43.088969Z",
          "start_time": "2018-10-11T20:39:43.084985Z"
        },
        "id": "813kNiTTsAMC",
        "colab": {
          "base_uri": "https://localhost:8080/",
          "height": 162
        },
        "outputId": "8b03eacf-02c2-437d-ebcb-98807583e5d8"
      },
      "outputs": [
        {
          "output_type": "execute_result",
          "data": {
            "text/plain": [
              "LogReg(gd_type='full', max_iter=1000,\n",
              "       w0=array([ 2.53654757e-01,  7.39842220e-02, -2.67006338e-01, -9.54009519e-02,\n",
              "        8.39590465e-02, -5.83234159e-02,  9.56747331e-02, -8.19859778e-02,\n",
              "        2.10130401e-01,  1.00829994e-02, -7.44151795e-02,  3.99242943e-02,\n",
              "        1.39682126e-01, -1.74301483e-04,  5.90198807e-02, -2.17694362e-01,\n",
              "        5.63442010e-03, -1.74256369e-01,  1.60601642e-01,  3.80953624e-02]))"
            ],
            "text/html": [
              "<style>#sk-container-id-1 {color: black;background-color: white;}#sk-container-id-1 pre{padding: 0;}#sk-container-id-1 div.sk-toggleable {background-color: white;}#sk-container-id-1 label.sk-toggleable__label {cursor: pointer;display: block;width: 100%;margin-bottom: 0;padding: 0.3em;box-sizing: border-box;text-align: center;}#sk-container-id-1 label.sk-toggleable__label-arrow:before {content: \"▸\";float: left;margin-right: 0.25em;color: #696969;}#sk-container-id-1 label.sk-toggleable__label-arrow:hover:before {color: black;}#sk-container-id-1 div.sk-estimator:hover label.sk-toggleable__label-arrow:before {color: black;}#sk-container-id-1 div.sk-toggleable__content {max-height: 0;max-width: 0;overflow: hidden;text-align: left;background-color: #f0f8ff;}#sk-container-id-1 div.sk-toggleable__content pre {margin: 0.2em;color: black;border-radius: 0.25em;background-color: #f0f8ff;}#sk-container-id-1 input.sk-toggleable__control:checked~div.sk-toggleable__content {max-height: 200px;max-width: 100%;overflow: auto;}#sk-container-id-1 input.sk-toggleable__control:checked~label.sk-toggleable__label-arrow:before {content: \"▾\";}#sk-container-id-1 div.sk-estimator input.sk-toggleable__control:checked~label.sk-toggleable__label {background-color: #d4ebff;}#sk-container-id-1 div.sk-label input.sk-toggleable__control:checked~label.sk-toggleable__label {background-color: #d4ebff;}#sk-container-id-1 input.sk-hidden--visually {border: 0;clip: rect(1px 1px 1px 1px);clip: rect(1px, 1px, 1px, 1px);height: 1px;margin: -1px;overflow: hidden;padding: 0;position: absolute;width: 1px;}#sk-container-id-1 div.sk-estimator {font-family: monospace;background-color: #f0f8ff;border: 1px dotted black;border-radius: 0.25em;box-sizing: border-box;margin-bottom: 0.5em;}#sk-container-id-1 div.sk-estimator:hover {background-color: #d4ebff;}#sk-container-id-1 div.sk-parallel-item::after {content: \"\";width: 100%;border-bottom: 1px solid gray;flex-grow: 1;}#sk-container-id-1 div.sk-label:hover label.sk-toggleable__label {background-color: #d4ebff;}#sk-container-id-1 div.sk-serial::before {content: \"\";position: absolute;border-left: 1px solid gray;box-sizing: border-box;top: 0;bottom: 0;left: 50%;z-index: 0;}#sk-container-id-1 div.sk-serial {display: flex;flex-direction: column;align-items: center;background-color: white;padding-right: 0.2em;padding-left: 0.2em;position: relative;}#sk-container-id-1 div.sk-item {position: relative;z-index: 1;}#sk-container-id-1 div.sk-parallel {display: flex;align-items: stretch;justify-content: center;background-color: white;position: relative;}#sk-container-id-1 div.sk-item::before, #sk-container-id-1 div.sk-parallel-item::before {content: \"\";position: absolute;border-left: 1px solid gray;box-sizing: border-box;top: 0;bottom: 0;left: 50%;z-index: -1;}#sk-container-id-1 div.sk-parallel-item {display: flex;flex-direction: column;z-index: 1;position: relative;background-color: white;}#sk-container-id-1 div.sk-parallel-item:first-child::after {align-self: flex-end;width: 50%;}#sk-container-id-1 div.sk-parallel-item:last-child::after {align-self: flex-start;width: 50%;}#sk-container-id-1 div.sk-parallel-item:only-child::after {width: 0;}#sk-container-id-1 div.sk-dashed-wrapped {border: 1px dashed gray;margin: 0 0.4em 0.5em 0.4em;box-sizing: border-box;padding-bottom: 0.4em;background-color: white;}#sk-container-id-1 div.sk-label label {font-family: monospace;font-weight: bold;display: inline-block;line-height: 1.2em;}#sk-container-id-1 div.sk-label-container {text-align: center;}#sk-container-id-1 div.sk-container {/* jupyter's `normalize.less` sets `[hidden] { display: none; }` but bootstrap.min.css set `[hidden] { display: none !important; }` so we also need the `!important` here to be able to override the default hidden behavior on the sphinx rendered scikit-learn.org. See: https://github.com/scikit-learn/scikit-learn/issues/21755 */display: inline-block !important;position: relative;}#sk-container-id-1 div.sk-text-repr-fallback {display: none;}</style><div id=\"sk-container-id-1\" class=\"sk-top-container\"><div class=\"sk-text-repr-fallback\"><pre>LogReg(gd_type=&#x27;full&#x27;, max_iter=1000,\n",
              "       w0=array([ 2.53654757e-01,  7.39842220e-02, -2.67006338e-01, -9.54009519e-02,\n",
              "        8.39590465e-02, -5.83234159e-02,  9.56747331e-02, -8.19859778e-02,\n",
              "        2.10130401e-01,  1.00829994e-02, -7.44151795e-02,  3.99242943e-02,\n",
              "        1.39682126e-01, -1.74301483e-04,  5.90198807e-02, -2.17694362e-01,\n",
              "        5.63442010e-03, -1.74256369e-01,  1.60601642e-01,  3.80953624e-02]))</pre><b>In a Jupyter environment, please rerun this cell to show the HTML representation or trust the notebook. <br />On GitHub, the HTML representation is unable to render, please try loading this page with nbviewer.org.</b></div><div class=\"sk-container\" hidden><div class=\"sk-item\"><div class=\"sk-estimator sk-toggleable\"><input class=\"sk-toggleable__control sk-hidden--visually\" id=\"sk-estimator-id-1\" type=\"checkbox\" checked><label for=\"sk-estimator-id-1\" class=\"sk-toggleable__label sk-toggleable__label-arrow\">LogReg</label><div class=\"sk-toggleable__content\"><pre>LogReg(gd_type=&#x27;full&#x27;, max_iter=1000,\n",
              "       w0=array([ 2.53654757e-01,  7.39842220e-02, -2.67006338e-01, -9.54009519e-02,\n",
              "        8.39590465e-02, -5.83234159e-02,  9.56747331e-02, -8.19859778e-02,\n",
              "        2.10130401e-01,  1.00829994e-02, -7.44151795e-02,  3.99242943e-02,\n",
              "        1.39682126e-01, -1.74301483e-04,  5.90198807e-02, -2.17694362e-01,\n",
              "        5.63442010e-03, -1.74256369e-01,  1.60601642e-01,  3.80953624e-02]))</pre></div></div></div></div></div>"
            ]
          },
          "metadata": {},
          "execution_count": 11
        }
      ],
      "source": [
        "w0 = np.zeros(X_train.shape[1])\n",
        "model = LogReg(gd_type='full', w0=w0, max_iter=1000)\n",
        "model.fit(X_train, y_train)"
      ]
    },
    {
      "cell_type": "markdown",
      "metadata": {
        "id": "kjpVBE6fsAMC"
      },
      "source": [
        "На тестовой части посчитайте ROC-AUC, PR-AUC. Постройте ROC и PR кривые. Проинтерпретируйте результат."
      ]
    },
    {
      "cell_type": "code",
      "execution_count": 12,
      "metadata": {
        "id": "R-qwZhMIsAMD"
      },
      "outputs": [],
      "source": [
        "from sklearn.metrics import roc_curve, auc, precision_recall_curve, precision_score\n",
        "\n",
        "predicts = model.predict_proba(X_test)\n",
        "fpr, tpr, thresholds = roc_curve(y_test, predicts)\n",
        "roc_auc = auc(fpr, tpr)\n",
        "\n",
        "precision, recall, thresholds = precision_recall_curve(y_test, predicts)\n",
        "pr_auc = auc(recall, precision)"
      ]
    },
    {
      "cell_type": "code",
      "source": [
        "plt.plot(fpr, tpr, label='ROC curve')\n",
        "plt.title('ROC curve')\n",
        "plt.xlabel('False Positive Rate')\n",
        "plt.ylabel('True Positive Rate')\n",
        "plt.show()"
      ],
      "metadata": {
        "id": "H379DNsAuOSM",
        "colab": {
          "base_uri": "https://localhost:8080/",
          "height": 472
        },
        "outputId": "246cf033-d178-4093-c1e9-48765194906b"
      },
      "execution_count": 13,
      "outputs": [
        {
          "output_type": "display_data",
          "data": {
            "text/plain": [
              "<Figure size 640x480 with 1 Axes>"
            ],
            "image/png": "[encoded data removed]"
          },
          "metadata": {}
        }
      ]
    },
    {
      "cell_type": "code",
      "source": [
        "plt.plot(recall, precision)\n",
        "plt.title('PR-curve')\n",
        "plt.xlabel('Recall')\n",
        "plt.ylabel('Precision')\n",
        "plt.show()"
      ],
      "metadata": {
        "id": "zzAxKnkxuR2j",
        "colab": {
          "base_uri": "https://localhost:8080/",
          "height": 472
        },
        "outputId": "94264bbb-12ba-401e-d0d5-77c79c2a8c5b"
      },
      "execution_count": 14,
      "outputs": [
        {
          "output_type": "display_data",
          "data": {
            "text/plain": [
              "<Figure size 640x480 with 1 Axes>"
            ],
            "image/png": "[encoded data removed]"
          },
          "metadata": {}
        }
      ]
    },
    {
      "cell_type": "code",
      "source": [
        "print(f\"\"\"\n",
        "Получили высокие значения обеих метрик:\n",
        "ROC-AUC = {roc_auc}\n",
        "PR-AUC = {pr_auc}\n",
        "Это свидетельствует в пользу того, что модель работает приемлемо. Показания ROC-AUC и PR-AUC высокие - 0.925 (близкие к 1.0), это указывает на то, что модель обладает хорошей предсказательной способностью.\n",
        "\"\"\")"
      ],
      "metadata": {
        "id": "JP2DTMa0uVTD",
        "colab": {
          "base_uri": "https://localhost:8080/"
        },
        "outputId": "f8da0fc8-6f38-4d6f-a052-530ceb0f0a56"
      },
      "execution_count": 15,
      "outputs": [
        {
          "output_type": "stream",
          "name": "stdout",
          "text": [
            "\n",
            "Получили высокие значения обеих метрик:\n",
            "ROC-AUC = 0.9258093638609841\n",
            "PR-AUC = 0.9243957198617139\n",
            "Это свидетельствует в пользу того, что модель работает приемлемо. Показания ROC-AUC и PR-AUC высокие - 0.925 (близкие к 1.0), это указывает на то, что модель обладает хорошей предсказательной способностью.\n",
            "\n"
          ]
        }
      ]
    },
    {
      "cell_type": "markdown",
      "metadata": {
        "id": "bZgCJB35sAMD"
      },
      "source": [
        "## Часть 2. Работа с категориальными переменными (3 балла)"
      ]
    },
    {
      "cell_type": "markdown",
      "metadata": {
        "id": "uvQVMp4wsAMD"
      },
      "source": [
        "В этой части мы научимся обрабатывать категориальные переменные, так как закодировать их в виде чисел недостаточно (это задаёт некоторый порядок, которого на категориальных переменных может и не быть). Существует два основных способа обработки категориальных значений:\n",
        "- One-hot-кодирование\n",
        "- Счётчики (CTR, mean-target кодирование, ...) — каждый категориальный признак заменяется на среднее значение целевой переменной по всем объектам, имеющим одинаковое значение в этом признаке.\n",
        "\n",
        "Начнём с one-hot-кодирования. Допустим наш категориальный признак $f_j(x)$ принимает значения из множества $C=\\{c_1, \\dots, c_m\\}$. Заменим его на $m$ бинарных признаков $b_1(x), \\dots, b_m(x)$, каждый из которых является индикатором одного из возможных категориальных значений:\n",
        "$$\n",
        "b_i(x) = [f_j(x) = c_i]\n",
        "$$"
      ]
    },
    {
      "cell_type": "markdown",
      "metadata": {
        "ExecuteTime": {
          "end_time": "2018-10-11T20:41:54.913436Z",
          "start_time": "2018-10-11T20:41:54.907515Z"
        },
        "id": "29enEDm0sAME"
      },
      "source": [
        "__Подготовка данных.__\n",
        "\n",
        "Загрузим данные с конкурса  [Kaggle Porto Seguro’s Safe Driver Prediction](https://www.kaggle.com/c/porto-seguro-safe-driver-prediction) (вам нужна только обучающая выборка). Задача состоит в определении водителей, которые в ближайший год воспользуются своей автомобильной страховкой (бинарная классификация). Но для нас важна будет не сама задача, а только её данные. При этом для задания мы немного модифицируем датасет."
      ]
    },
    {
      "cell_type": "code",
      "execution_count": 16,
      "metadata": {
        "ExecuteTime": {
          "end_time": "2018-10-12T07:36:04.765536Z",
          "start_time": "2018-10-12T07:35:57.814973Z"
        },
        "id": "aS1v1T7xsAME"
      },
      "outputs": [],
      "source": [
        "data = pd.read_csv('train.csv', index_col=0)\n",
        "target = data.target.values\n",
        "data = data.drop('target', axis=1)"
      ]
    },
    {
      "cell_type": "markdown",
      "metadata": {
        "id": "JcP7O_a2sAMF"
      },
      "source": [
        "Пересемплируем выборку так, чтобы положительных и отрицательных объектов в выборке было одинаковое число. Разделим на обучающую и тестовую выборки.\n"
      ]
    },
    {
      "cell_type": "code",
      "execution_count": 17,
      "metadata": {
        "ExecuteTime": {
          "end_time": "2018-10-12T07:36:05.368407Z",
          "start_time": "2018-10-12T07:36:04.770388Z"
        },
        "id": "dIg3xsB1sAMF"
      },
      "outputs": [],
      "source": [
        "# some resampling\n",
        "np.random.seed(910)\n",
        "mask_plus = np.random.choice(np.where(target == 1)[0], 100000, replace=True)\n",
        "mask_zero = np.random.choice(np.where(target == 0)[0], 100000, replace=True)\n",
        "\n",
        "data = pd.concat((data.iloc[mask_plus], data.iloc[mask_zero]))\n",
        "target = np.hstack((target[mask_plus], target[mask_zero]))\n",
        "\n",
        "X_train, X_test, y_train, y_test = train_test_split(data, target, test_size=0.5)"
      ]
    },
    {
      "cell_type": "markdown",
      "metadata": {
        "id": "LONmS9IysAMF"
      },
      "source": [
        "**Задание 5 (0 баллов).** Посчитайте качество (в этом задании будем работать c ROC-AUC) на исходных признаках при применении логистической регрессии."
      ]
    },
    {
      "cell_type": "code",
      "execution_count": 18,
      "metadata": {
        "id": "YVPYtLVFsAMG",
        "colab": {
          "base_uri": "https://localhost:8080/"
        },
        "outputId": "7bd3625d-03d7-4f68-e3aa-77d33f0e7fcb"
      },
      "outputs": [
        {
          "output_type": "stream",
          "name": "stdout",
          "text": [
            "ROC-AUC = 0.5213755423078078\n"
          ]
        }
      ],
      "source": [
        "w0 = np.zeros(X_train.shape[1])\n",
        "model = LogReg(gd_type='stochastic', w0=w0) # инициализируем модель\n",
        "model.fit(X_train, y_train) # обучаем модель\n",
        "\n",
        "predicts = model.predict_proba(X_test) # вычислили предсказания вероятностей классов для тестовых данных\n",
        "# рассчитали ROC кривую и ROC-AUC с использованием функций roc_curve и auc из библиотеки sklearn.metrics\n",
        "fpr, tpr, thresholds = roc_curve(y_test, predicts)\n",
        "roc_auc = auc(fpr, tpr)\n",
        "# выведем значение метрики\n",
        "print(f'ROC-AUC = {roc_auc}')"
      ]
    },
    {
      "cell_type": "markdown",
      "metadata": {
        "id": "SC_YWSrIsAMG"
      },
      "source": [
        "**Задание 6 (0.5 балла).** Закодируйте все категориальные признаки с помощью one-hot-кодирования. Обучите логистическую регрессию и посмотрите, как изменилось качество модели (с тем, что было до кодирования). Измерьте время, потребовавшееся на обучение модели."
      ]
    },
    {
      "cell_type": "code",
      "execution_count": 19,
      "metadata": {
        "id": "xvulx0eXsAMG"
      },
      "outputs": [],
      "source": [
        "from sklearn.preprocessing import OneHotEncoder\n",
        "\n",
        "# определим категориальные признаки, которые начинаются с 'cat'\n",
        "cat_features = []\n",
        "for col in data.columns.values.tolist():\n",
        "  if 'cat' in col:\n",
        "    cat_features.append(col)\n",
        "\n",
        "# используем OneHotEncoder для преобразования категориальных признаков в бинарные (one-hot)\n",
        "enc = OneHotEncoder(drop = 'first')\n",
        "\n",
        "transformed_train = enc.fit_transform(X_train[cat_features])\n",
        "transformed_train = pd.DataFrame.sparse.from_spmatrix(transformed_train, columns=enc.get_feature_names_out())\n",
        "X_train_cat = pd.concat([transformed_train, X_train.reset_index(drop=True)], axis=1).drop(cat_features, axis=1)\n",
        "\n",
        "transformed_test = enc.transform(X_test[cat_features])\n",
        "transformed_test = pd.DataFrame.sparse.from_spmatrix(transformed_test, columns=enc.get_feature_names_out())\n",
        "\n",
        "# сконкантерируем закодированные признаки\n",
        "X_test_cat = pd.concat([transformed_test, X_test.reset_index(drop=True)], axis=1).drop(cat_features, axis=1)"
      ]
    },
    {
      "cell_type": "code",
      "source": [
        "%%time\n",
        "w0 = np.zeros(X_train_cat.shape[1])\n",
        "model = LogReg(gd_type='stochastic', w0=w0) # инициировали модель логистической регрессии\n",
        "model.fit(X_train_cat, y_train) # обучаем модель"
      ],
      "metadata": {
        "id": "oLt7dwDzurj4",
        "colab": {
          "base_uri": "https://localhost:8080/",
          "height": 287
        },
        "outputId": "48afcbeb-76b6-40ec-f087-36c3a89a63e6"
      },
      "execution_count": 20,
      "outputs": [
        {
          "output_type": "stream",
          "name": "stdout",
          "text": [
            "CPU times: user 18.1 s, sys: 18.8 s, total: 36.8 s\n",
            "Wall time: 20.8 s\n"
          ]
        },
        {
          "output_type": "execute_result",
          "data": {
            "text/plain": [
              "LogReg(w0=array([-3.84591530e-03,  3.22700857e-03, -3.72845780e-05,  4.52538689e-04,\n",
              "       -7.30768194e-03,  7.14340366e-03, -1.70644944e-02,  1.10979587e-03,\n",
              "        2.04801719e-03,  7.96822819e-04,  4.01726191e-03,  2.67773254e-04,\n",
              "        5.84917347e-03,  4.08983227e-04,  2.87515923e-04,  1.88010007e-04,\n",
              "       -3.08740680e-04,  5.31574471e-04,  6.55427147e-04, -5.26231482e-03,\n",
              "       -1.46228094e-02,  1.15607203e...\n",
              "        2.62076926e-03,  1.46515176e-02, -1.84599863e-03,  2.68118996e-02,\n",
              "        1.21224666e-03,  2.49272441e-04,  6.49114743e-04, -8.87529499e-04,\n",
              "       -1.01341700e-04,  3.09115110e-03, -1.95144754e-04, -3.42394154e-03,\n",
              "       -2.79215234e-04, -2.25105934e-04,  5.67310289e-04, -4.19419285e-03,\n",
              "       -3.26279986e-03,  4.26843167e-03, -1.84352048e-04,  7.17424400e-05,\n",
              "       -7.01000541e-04,  9.25647005e-04,  2.06393741e-04, -1.23898409e-03]))"
            ],
            "text/html": [
              "<style>#sk-container-id-2 {color: black;background-color: white;}#sk-container-id-2 pre{padding: 0;}#sk-container-id-2 div.sk-toggleable {background-color: white;}#sk-container-id-2 label.sk-toggleable__label {cursor: pointer;display: block;width: 100%;margin-bottom: 0;padding: 0.3em;box-sizing: border-box;text-align: center;}#sk-container-id-2 label.sk-toggleable__label-arrow:before {content: \"▸\";float: left;margin-right: 0.25em;color: #696969;}#sk-container-id-2 label.sk-toggleable__label-arrow:hover:before {color: black;}#sk-container-id-2 div.sk-estimator:hover label.sk-toggleable__label-arrow:before {color: black;}#sk-container-id-2 div.sk-toggleable__content {max-height: 0;max-width: 0;overflow: hidden;text-align: left;background-color: #f0f8ff;}#sk-container-id-2 div.sk-toggleable__content pre {margin: 0.2em;color: black;border-radius: 0.25em;background-color: #f0f8ff;}#sk-container-id-2 input.sk-toggleable__control:checked~div.sk-toggleable__content {max-height: 200px;max-width: 100%;overflow: auto;}#sk-container-id-2 input.sk-toggleable__control:checked~label.sk-toggleable__label-arrow:before {content: \"▾\";}#sk-container-id-2 div.sk-estimator input.sk-toggleable__control:checked~label.sk-toggleable__label {background-color: #d4ebff;}#sk-container-id-2 div.sk-label input.sk-toggleable__control:checked~label.sk-toggleable__label {background-color: #d4ebff;}#sk-container-id-2 input.sk-hidden--visually {border: 0;clip: rect(1px 1px 1px 1px);clip: rect(1px, 1px, 1px, 1px);height: 1px;margin: -1px;overflow: hidden;padding: 0;position: absolute;width: 1px;}#sk-container-id-2 div.sk-estimator {font-family: monospace;background-color: #f0f8ff;border: 1px dotted black;border-radius: 0.25em;box-sizing: border-box;margin-bottom: 0.5em;}#sk-container-id-2 div.sk-estimator:hover {background-color: #d4ebff;}#sk-container-id-2 div.sk-parallel-item::after {content: \"\";width: 100%;border-bottom: 1px solid gray;flex-grow: 1;}#sk-container-id-2 div.sk-label:hover label.sk-toggleable__label {background-color: #d4ebff;}#sk-container-id-2 div.sk-serial::before {content: \"\";position: absolute;border-left: 1px solid gray;box-sizing: border-box;top: 0;bottom: 0;left: 50%;z-index: 0;}#sk-container-id-2 div.sk-serial {display: flex;flex-direction: column;align-items: center;background-color: white;padding-right: 0.2em;padding-left: 0.2em;position: relative;}#sk-container-id-2 div.sk-item {position: relative;z-index: 1;}#sk-container-id-2 div.sk-parallel {display: flex;align-items: stretch;justify-content: center;background-color: white;position: relative;}#sk-container-id-2 div.sk-item::before, #sk-container-id-2 div.sk-parallel-item::before {content: \"\";position: absolute;border-left: 1px solid gray;box-sizing: border-box;top: 0;bottom: 0;left: 50%;z-index: -1;}#sk-container-id-2 div.sk-parallel-item {display: flex;flex-direction: column;z-index: 1;position: relative;background-color: white;}#sk-container-id-2 div.sk-parallel-item:first-child::after {align-self: flex-end;width: 50%;}#sk-container-id-2 div.sk-parallel-item:last-child::after {align-self: flex-start;width: 50%;}#sk-container-id-2 div.sk-parallel-item:only-child::after {width: 0;}#sk-container-id-2 div.sk-dashed-wrapped {border: 1px dashed gray;margin: 0 0.4em 0.5em 0.4em;box-sizing: border-box;padding-bottom: 0.4em;background-color: white;}#sk-container-id-2 div.sk-label label {font-family: monospace;font-weight: bold;display: inline-block;line-height: 1.2em;}#sk-container-id-2 div.sk-label-container {text-align: center;}#sk-container-id-2 div.sk-container {/* jupyter's `normalize.less` sets `[hidden] { display: none; }` but bootstrap.min.css set `[hidden] { display: none !important; }` so we also need the `!important` here to be able to override the default hidden behavior on the sphinx rendered scikit-learn.org. See: https://github.com/scikit-learn/scikit-learn/issues/21755 */display: inline-block !important;position: relative;}#sk-container-id-2 div.sk-text-repr-fallback {display: none;}</style><div id=\"sk-container-id-2\" class=\"sk-top-container\"><div class=\"sk-text-repr-fallback\"><pre>LogReg(w0=array([-3.84591530e-03,  3.22700857e-03, -3.72845780e-05,  4.52538689e-04,\n",
              "       -7.30768194e-03,  7.14340366e-03, -1.70644944e-02,  1.10979587e-03,\n",
              "        2.04801719e-03,  7.96822819e-04,  4.01726191e-03,  2.67773254e-04,\n",
              "        5.84917347e-03,  4.08983227e-04,  2.87515923e-04,  1.88010007e-04,\n",
              "       -3.08740680e-04,  5.31574471e-04,  6.55427147e-04, -5.26231482e-03,\n",
              "       -1.46228094e-02,  1.15607203e...\n",
              "        2.62076926e-03,  1.46515176e-02, -1.84599863e-03,  2.68118996e-02,\n",
              "        1.21224666e-03,  2.49272441e-04,  6.49114743e-04, -8.87529499e-04,\n",
              "       -1.01341700e-04,  3.09115110e-03, -1.95144754e-04, -3.42394154e-03,\n",
              "       -2.79215234e-04, -2.25105934e-04,  5.67310289e-04, -4.19419285e-03,\n",
              "       -3.26279986e-03,  4.26843167e-03, -1.84352048e-04,  7.17424400e-05,\n",
              "       -7.01000541e-04,  9.25647005e-04,  2.06393741e-04, -1.23898409e-03]))</pre><b>In a Jupyter environment, please rerun this cell to show the HTML representation or trust the notebook. <br />On GitHub, the HTML representation is unable to render, please try loading this page with nbviewer.org.</b></div><div class=\"sk-container\" hidden><div class=\"sk-item\"><div class=\"sk-estimator sk-toggleable\"><input class=\"sk-toggleable__control sk-hidden--visually\" id=\"sk-estimator-id-2\" type=\"checkbox\" checked><label for=\"sk-estimator-id-2\" class=\"sk-toggleable__label sk-toggleable__label-arrow\">LogReg</label><div class=\"sk-toggleable__content\"><pre>LogReg(w0=array([-3.84591530e-03,  3.22700857e-03, -3.72845780e-05,  4.52538689e-04,\n",
              "       -7.30768194e-03,  7.14340366e-03, -1.70644944e-02,  1.10979587e-03,\n",
              "        2.04801719e-03,  7.96822819e-04,  4.01726191e-03,  2.67773254e-04,\n",
              "        5.84917347e-03,  4.08983227e-04,  2.87515923e-04,  1.88010007e-04,\n",
              "       -3.08740680e-04,  5.31574471e-04,  6.55427147e-04, -5.26231482e-03,\n",
              "       -1.46228094e-02,  1.15607203e...\n",
              "        2.62076926e-03,  1.46515176e-02, -1.84599863e-03,  2.68118996e-02,\n",
              "        1.21224666e-03,  2.49272441e-04,  6.49114743e-04, -8.87529499e-04,\n",
              "       -1.01341700e-04,  3.09115110e-03, -1.95144754e-04, -3.42394154e-03,\n",
              "       -2.79215234e-04, -2.25105934e-04,  5.67310289e-04, -4.19419285e-03,\n",
              "       -3.26279986e-03,  4.26843167e-03, -1.84352048e-04,  7.17424400e-05,\n",
              "       -7.01000541e-04,  9.25647005e-04,  2.06393741e-04, -1.23898409e-03]))</pre></div></div></div></div></div>"
            ]
          },
          "metadata": {},
          "execution_count": 20
        }
      ]
    },
    {
      "cell_type": "code",
      "source": [
        "predicts = model.predict_proba(X_test_cat)\n",
        "fpr, tpr, thresholds = roc_curve(y_test, predicts)\n",
        "roc_auc = auc(fpr, tpr)\n",
        "print(f'ROC-AUC = {roc_auc}')"
      ],
      "metadata": {
        "id": "gMDk2A2BuwDx",
        "colab": {
          "base_uri": "https://localhost:8080/"
        },
        "outputId": "190a7e5f-7f77-444d-a516-34b1a82abc9a"
      },
      "execution_count": 21,
      "outputs": [
        {
          "output_type": "stream",
          "name": "stdout",
          "text": [
            "ROC-AUC = 0.5823037003851733\n"
          ]
        }
      ]
    },
    {
      "cell_type": "markdown",
      "metadata": {
        "id": "tToUEfXxsAMH"
      },
      "source": [
        "Как можно было заменить, one-hot-кодирование сильно увилечивает количество признаков в датасете, что сказывается на памяти, особенно, если некоторый признак имеет большое количество значений. Эту проблему решает другой способ кодирование категориальных признаков — счётчики. Основная идея в том, что нам важны не сами категории, а значения целевой переменной, которые имеют объекты этой категории. Каждый категориальный признак мы заменим средним значением целевой переменной по всем объектам этой же категории:\n",
        "$$\n",
        "g_j(x, X) = \\frac{\\sum_{i=1}^{l} [f_j(x) = f_j(x_i)][y_i = +1]}{\\sum_{i=1}^{l} [f_j(x) = f_j(x_i)]}\n",
        "$$\n",
        "\n",
        "__Задание 7 (1.5 балла).__ Закодируйте категориальные переменные с помощью счётчиков (ровно так, как описано выше, без каких-либо хитростей). Обучите логистическую регрессию и посмотрите на качество модели на тестовом множестве. Сравните время обучения с предыдущим экспериментом. Заметили ли вы что-то интересное?\n"
      ]
    },
    {
      "cell_type": "code",
      "execution_count": 22,
      "metadata": {
        "id": "ujFGrmFqsAMH",
        "colab": {
          "base_uri": "https://localhost:8080/"
        },
        "outputId": "cf89e57c-bf73-4cb8-fa72-2be80d244377"
      },
      "outputs": [
        {
          "output_type": "stream",
          "name": "stdout",
          "text": [
            "ps_ind_01          0.000000\n",
            "ps_ind_02_cat      0.495424\n",
            "ps_ind_03          5.000000\n",
            "ps_ind_04_cat      0.486512\n",
            "ps_ind_05_cat      0.479374\n",
            "ps_ind_06_bin      1.000000\n",
            "ps_ind_07_bin      0.000000\n",
            "ps_ind_08_bin      0.000000\n",
            "ps_ind_09_bin      0.000000\n",
            "ps_ind_10_bin      0.000000\n",
            "ps_ind_11_bin      0.000000\n",
            "ps_ind_12_bin      0.000000\n",
            "ps_ind_13_bin      0.000000\n",
            "ps_ind_14          0.000000\n",
            "ps_ind_15          5.000000\n",
            "ps_ind_16_bin      1.000000\n",
            "ps_ind_17_bin      0.000000\n",
            "ps_ind_18_bin      0.000000\n",
            "ps_reg_01          0.600000\n",
            "ps_reg_02          0.300000\n",
            "ps_reg_03          0.868188\n",
            "ps_car_01_cat      0.446192\n",
            "ps_car_02_cat      0.479677\n",
            "ps_car_03_cat      0.472847\n",
            "ps_car_04_cat      0.476990\n",
            "ps_car_05_cat      0.524454\n",
            "ps_car_06_cat      0.483755\n",
            "ps_car_07_cat      0.487977\n",
            "ps_car_08_cat      0.487694\n",
            "ps_car_09_cat      0.476309\n",
            "ps_car_10_cat      0.500136\n",
            "ps_car_11_cat      0.535928\n",
            "ps_car_11          2.000000\n",
            "ps_car_12          0.417971\n",
            "ps_car_13          0.963540\n",
            "ps_car_14          0.365787\n",
            "ps_car_15          3.464102\n",
            "ps_calc_01         0.900000\n",
            "ps_calc_02         0.600000\n",
            "ps_calc_03         0.600000\n",
            "ps_calc_04         2.000000\n",
            "ps_calc_05         3.000000\n",
            "ps_calc_06         9.000000\n",
            "ps_calc_07         5.000000\n",
            "ps_calc_08         8.000000\n",
            "ps_calc_09         2.000000\n",
            "ps_calc_10        13.000000\n",
            "ps_calc_11         4.000000\n",
            "ps_calc_12         3.000000\n",
            "ps_calc_13         4.000000\n",
            "ps_calc_14         6.000000\n",
            "ps_calc_15_bin     0.000000\n",
            "ps_calc_16_bin     0.000000\n",
            "ps_calc_17_bin     0.000000\n",
            "ps_calc_18_bin     0.000000\n",
            "ps_calc_19_bin     0.000000\n",
            "ps_calc_20_bin     0.000000\n",
            "Name: 1049183, dtype: float64\n"
          ]
        }
      ],
      "source": [
        "# для каждой категориальной переменной вычислили среднее значение целевой переменной для каждой уникальной категории в обучающем наборе данных\n",
        "# Заменим значение категориальных переменных на средние значения\n",
        "for feature in cat_features:\n",
        "    full = pd.concat([X_train.reset_index(drop=True), pd.Series(y_train, name='target')], axis=1)\n",
        "    replace = full.groupby(feature).agg({'target': 'mean'}).to_dict()['target']\n",
        "    X_train[feature] = X_train[feature].replace(replace)\n",
        "    X_test[feature] = X_test[feature].replace(replace)\n",
        "print(X_train.iloc[0, :])"
      ]
    },
    {
      "cell_type": "code",
      "execution_count": 23,
      "metadata": {
        "id": "UM9dQx7LsAMH",
        "colab": {
          "base_uri": "https://localhost:8080/",
          "height": 287
        },
        "outputId": "2af5c5ee-835b-4cab-c191-a5b1096ce1b8"
      },
      "outputs": [
        {
          "output_type": "stream",
          "name": "stdout",
          "text": [
            "CPU times: user 4.66 s, sys: 5.46 s, total: 10.1 s\n",
            "Wall time: 5.31 s\n"
          ]
        },
        {
          "output_type": "execute_result",
          "data": {
            "text/plain": [
              "LogReg(w0=array([ 3.23284150e-02,  2.44964272e-04,  1.71687835e-02,  4.34583413e-04,\n",
              "        2.82866759e-03, -1.92787760e-02,  1.76758805e-02,  5.97680572e-03,\n",
              "       -4.34323403e-03,  2.42793382e-05,  9.26683209e-05,  1.17624807e-03,\n",
              "        1.40430687e-04,  1.43362641e-03, -3.25386389e-02, -1.30880368e-02,\n",
              "        1.47853216e-02, -1.68216004e-03,  7.65232035e-03,  1.78326798e-02,\n",
              "        2.99216463e-02,  2.54609576e-0...\n",
              "       -1.87366861e-03,  2.60307221e-03,  1.48216866e-02, -1.98954118e-03,\n",
              "        2.66584817e-02,  1.12962119e-03,  1.62185815e-04,  5.68836836e-04,\n",
              "       -1.26441150e-03, -3.96205233e-04,  1.89121270e-03, -6.60018636e-04,\n",
              "       -4.85714890e-03, -5.84262833e-04, -9.79776297e-04, -9.60804590e-05,\n",
              "       -4.45796607e-03, -3.69925373e-03,  3.54144951e-03, -2.00157673e-04,\n",
              "       -4.35215025e-05, -8.19289395e-04,  8.80823455e-04,  1.46178785e-04,\n",
              "       -1.27351851e-03]))"
            ],
            "text/html": [
              "<style>#sk-container-id-3 {color: black;background-color: white;}#sk-container-id-3 pre{padding: 0;}#sk-container-id-3 div.sk-toggleable {background-color: white;}#sk-container-id-3 label.sk-toggleable__label {cursor: pointer;display: block;width: 100%;margin-bottom: 0;padding: 0.3em;box-sizing: border-box;text-align: center;}#sk-container-id-3 label.sk-toggleable__label-arrow:before {content: \"▸\";float: left;margin-right: 0.25em;color: #696969;}#sk-container-id-3 label.sk-toggleable__label-arrow:hover:before {color: black;}#sk-container-id-3 div.sk-estimator:hover label.sk-toggleable__label-arrow:before {color: black;}#sk-container-id-3 div.sk-toggleable__content {max-height: 0;max-width: 0;overflow: hidden;text-align: left;background-color: #f0f8ff;}#sk-container-id-3 div.sk-toggleable__content pre {margin: 0.2em;color: black;border-radius: 0.25em;background-color: #f0f8ff;}#sk-container-id-3 input.sk-toggleable__control:checked~div.sk-toggleable__content {max-height: 200px;max-width: 100%;overflow: auto;}#sk-container-id-3 input.sk-toggleable__control:checked~label.sk-toggleable__label-arrow:before {content: \"▾\";}#sk-container-id-3 div.sk-estimator input.sk-toggleable__control:checked~label.sk-toggleable__label {background-color: #d4ebff;}#sk-container-id-3 div.sk-label input.sk-toggleable__control:checked~label.sk-toggleable__label {background-color: #d4ebff;}#sk-container-id-3 input.sk-hidden--visually {border: 0;clip: rect(1px 1px 1px 1px);clip: rect(1px, 1px, 1px, 1px);height: 1px;margin: -1px;overflow: hidden;padding: 0;position: absolute;width: 1px;}#sk-container-id-3 div.sk-estimator {font-family: monospace;background-color: #f0f8ff;border: 1px dotted black;border-radius: 0.25em;box-sizing: border-box;margin-bottom: 0.5em;}#sk-container-id-3 div.sk-estimator:hover {background-color: #d4ebff;}#sk-container-id-3 div.sk-parallel-item::after {content: \"\";width: 100%;border-bottom: 1px solid gray;flex-grow: 1;}#sk-container-id-3 div.sk-label:hover label.sk-toggleable__label {background-color: #d4ebff;}#sk-container-id-3 div.sk-serial::before {content: \"\";position: absolute;border-left: 1px solid gray;box-sizing: border-box;top: 0;bottom: 0;left: 50%;z-index: 0;}#sk-container-id-3 div.sk-serial {display: flex;flex-direction: column;align-items: center;background-color: white;padding-right: 0.2em;padding-left: 0.2em;position: relative;}#sk-container-id-3 div.sk-item {position: relative;z-index: 1;}#sk-container-id-3 div.sk-parallel {display: flex;align-items: stretch;justify-content: center;background-color: white;position: relative;}#sk-container-id-3 div.sk-item::before, #sk-container-id-3 div.sk-parallel-item::before {content: \"\";position: absolute;border-left: 1px solid gray;box-sizing: border-box;top: 0;bottom: 0;left: 50%;z-index: -1;}#sk-container-id-3 div.sk-parallel-item {display: flex;flex-direction: column;z-index: 1;position: relative;background-color: white;}#sk-container-id-3 div.sk-parallel-item:first-child::after {align-self: flex-end;width: 50%;}#sk-container-id-3 div.sk-parallel-item:last-child::after {align-self: flex-start;width: 50%;}#sk-container-id-3 div.sk-parallel-item:only-child::after {width: 0;}#sk-container-id-3 div.sk-dashed-wrapped {border: 1px dashed gray;margin: 0 0.4em 0.5em 0.4em;box-sizing: border-box;padding-bottom: 0.4em;background-color: white;}#sk-container-id-3 div.sk-label label {font-family: monospace;font-weight: bold;display: inline-block;line-height: 1.2em;}#sk-container-id-3 div.sk-label-container {text-align: center;}#sk-container-id-3 div.sk-container {/* jupyter's `normalize.less` sets `[hidden] { display: none; }` but bootstrap.min.css set `[hidden] { display: none !important; }` so we also need the `!important` here to be able to override the default hidden behavior on the sphinx rendered scikit-learn.org. See: https://github.com/scikit-learn/scikit-learn/issues/21755 */display: inline-block !important;position: relative;}#sk-container-id-3 div.sk-text-repr-fallback {display: none;}</style><div id=\"sk-container-id-3\" class=\"sk-top-container\"><div class=\"sk-text-repr-fallback\"><pre>LogReg(w0=array([ 3.23284150e-02,  2.44964272e-04,  1.71687835e-02,  4.34583413e-04,\n",
              "        2.82866759e-03, -1.92787760e-02,  1.76758805e-02,  5.97680572e-03,\n",
              "       -4.34323403e-03,  2.42793382e-05,  9.26683209e-05,  1.17624807e-03,\n",
              "        1.40430687e-04,  1.43362641e-03, -3.25386389e-02, -1.30880368e-02,\n",
              "        1.47853216e-02, -1.68216004e-03,  7.65232035e-03,  1.78326798e-02,\n",
              "        2.99216463e-02,  2.54609576e-0...\n",
              "       -1.87366861e-03,  2.60307221e-03,  1.48216866e-02, -1.98954118e-03,\n",
              "        2.66584817e-02,  1.12962119e-03,  1.62185815e-04,  5.68836836e-04,\n",
              "       -1.26441150e-03, -3.96205233e-04,  1.89121270e-03, -6.60018636e-04,\n",
              "       -4.85714890e-03, -5.84262833e-04, -9.79776297e-04, -9.60804590e-05,\n",
              "       -4.45796607e-03, -3.69925373e-03,  3.54144951e-03, -2.00157673e-04,\n",
              "       -4.35215025e-05, -8.19289395e-04,  8.80823455e-04,  1.46178785e-04,\n",
              "       -1.27351851e-03]))</pre><b>In a Jupyter environment, please rerun this cell to show the HTML representation or trust the notebook. <br />On GitHub, the HTML representation is unable to render, please try loading this page with nbviewer.org.</b></div><div class=\"sk-container\" hidden><div class=\"sk-item\"><div class=\"sk-estimator sk-toggleable\"><input class=\"sk-toggleable__control sk-hidden--visually\" id=\"sk-estimator-id-3\" type=\"checkbox\" checked><label for=\"sk-estimator-id-3\" class=\"sk-toggleable__label sk-toggleable__label-arrow\">LogReg</label><div class=\"sk-toggleable__content\"><pre>LogReg(w0=array([ 3.23284150e-02,  2.44964272e-04,  1.71687835e-02,  4.34583413e-04,\n",
              "        2.82866759e-03, -1.92787760e-02,  1.76758805e-02,  5.97680572e-03,\n",
              "       -4.34323403e-03,  2.42793382e-05,  9.26683209e-05,  1.17624807e-03,\n",
              "        1.40430687e-04,  1.43362641e-03, -3.25386389e-02, -1.30880368e-02,\n",
              "        1.47853216e-02, -1.68216004e-03,  7.65232035e-03,  1.78326798e-02,\n",
              "        2.99216463e-02,  2.54609576e-0...\n",
              "       -1.87366861e-03,  2.60307221e-03,  1.48216866e-02, -1.98954118e-03,\n",
              "        2.66584817e-02,  1.12962119e-03,  1.62185815e-04,  5.68836836e-04,\n",
              "       -1.26441150e-03, -3.96205233e-04,  1.89121270e-03, -6.60018636e-04,\n",
              "       -4.85714890e-03, -5.84262833e-04, -9.79776297e-04, -9.60804590e-05,\n",
              "       -4.45796607e-03, -3.69925373e-03,  3.54144951e-03, -2.00157673e-04,\n",
              "       -4.35215025e-05, -8.19289395e-04,  8.80823455e-04,  1.46178785e-04,\n",
              "       -1.27351851e-03]))</pre></div></div></div></div></div>"
            ]
          },
          "metadata": {},
          "execution_count": 23
        }
      ],
      "source": [
        "%%time\n",
        "w0 = np.zeros(X_train.shape[1])\n",
        "model = LogReg(gd_type='stochastic', w0=w0) # инициируем модель логистической регрессии\n",
        "model.fit(X_train, y_train) # обчучаем модель"
      ]
    },
    {
      "cell_type": "code",
      "source": [
        "predicts = model.predict_proba(X_test)\n",
        "fpr, tpr, thresholds = roc_curve(y_test, predicts)\n",
        "roc_auc = auc(fpr, tpr)\n",
        "print(f'ROC-AUC = {roc_auc}')"
      ],
      "metadata": {
        "id": "HJ58fMdfvHRf",
        "colab": {
          "base_uri": "https://localhost:8080/"
        },
        "outputId": "a4a94142-5783-45fd-bd73-a558928c0c31"
      },
      "execution_count": 24,
      "outputs": [
        {
          "output_type": "stream",
          "name": "stdout",
          "text": [
            "ROC-AUC = 0.5702190634111545\n"
          ]
        }
      ]
    },
    {
      "cell_type": "markdown",
      "metadata": {
        "id": "DZo1q_2osAMH"
      },
      "source": [
        "Отметим, что такие признаки сами по себе являются классификаторами и, обучаясь на них, мы допускаем \"утечку\" целевой переменной в признаки. Это ведёт к переобучению, поэтому считать такие признаки необходимо так, чтобы при вычислении для конкретного объекта его целевая метка не использовалась. Это можно делать следующими способами:\n",
        "1. Вычислять значение счётчика по всем объектам расположенным выше в датасете (например, если у нас выборка отсортирована по времени).\n",
        "2. Вычислять по фолдам, то есть делить выборку на некоторое количество частей и подсчитывать значение признаков по всем фолдам кроме текущего (как делается в кросс-валидации).\n",
        "3. Внесение некоторого шума в посчитанные признаки.\n",
        "\n",
        "__Задание 8 (1 балл)__. Реализуйте корректное вычисление счётчиков самым простым способом — добавление шума к значениям (необходимо соблюсти баланс между избавление от переобучения и полезностью признаков). Снова обучите логистическую регрессию, оцените качество. Сделайте выводы.\n"
      ]
    },
    {
      "cell_type": "code",
      "source": [
        "# добавим случайный шум\n",
        "noise = np.random.normal(0, 0.1, size=X_train[cat_features].shape)\n",
        "X_train[cat_features] += noise\n",
        "noise = np.random.normal(0, 0.1, size=X_test[cat_features].shape)\n",
        "X_test[cat_features] += noise"
      ],
      "metadata": {
        "id": "uCDNUYQ2vOax"
      },
      "execution_count": 25,
      "outputs": []
    },
    {
      "cell_type": "code",
      "source": [
        "%%time\n",
        "w0 = np.zeros(X_train.shape[1])\n",
        "model = LogReg(gd_type='stochastic', w0=w0) # инициализируем модель\n",
        "model.fit(X_train, y_train)"
      ],
      "metadata": {
        "id": "40rg4RRyvSEy",
        "colab": {
          "base_uri": "https://localhost:8080/",
          "height": 287
        },
        "outputId": "f6dd2e99-8c94-4e21-bcb0-7b10cdee3af8"
      },
      "execution_count": 26,
      "outputs": [
        {
          "output_type": "stream",
          "name": "stdout",
          "text": [
            "CPU times: user 4.76 s, sys: 5.34 s, total: 10.1 s\n",
            "Wall time: 5.2 s\n"
          ]
        },
        {
          "output_type": "execute_result",
          "data": {
            "text/plain": [
              "LogReg(w0=array([ 3.23286101e-02,  3.62705512e-04,  1.71687417e-02,  4.02389687e-04,\n",
              "        3.06176039e-03, -1.92790971e-02,  1.76756731e-02,  5.97691308e-03,\n",
              "       -4.34337513e-03,  2.42889915e-05,  9.26749414e-05,  1.17621968e-03,\n",
              "        1.40438638e-04,  1.43362226e-03, -3.25400357e-02, -1.30883859e-02,\n",
              "        1.47852650e-02, -1.68230396e-03,  7.65197167e-03,  1.78326417e-02,\n",
              "        2.99213112e-02,  2.54816773e-0...\n",
              "       -1.87489111e-03,  2.60288251e-03,  1.48213138e-02, -1.98972470e-03,\n",
              "        2.66569859e-02,  1.12934137e-03,  1.62020937e-04,  5.68399494e-04,\n",
              "       -1.26552191e-03, -3.97622074e-04,  1.88807070e-03, -6.61065409e-04,\n",
              "       -4.86187772e-03, -5.85601932e-04, -9.81180786e-04, -9.81341967e-05,\n",
              "       -4.45899212e-03, -3.70008668e-03,  3.53951067e-03, -2.00218458e-04,\n",
              "       -4.41673521e-05, -8.19853160e-04,  8.80704554e-04,  1.46109571e-04,\n",
              "       -1.27384029e-03]))"
            ],
            "text/html": [
              "<style>#sk-container-id-4 {color: black;background-color: white;}#sk-container-id-4 pre{padding: 0;}#sk-container-id-4 div.sk-toggleable {background-color: white;}#sk-container-id-4 label.sk-toggleable__label {cursor: pointer;display: block;width: 100%;margin-bottom: 0;padding: 0.3em;box-sizing: border-box;text-align: center;}#sk-container-id-4 label.sk-toggleable__label-arrow:before {content: \"▸\";float: left;margin-right: 0.25em;color: #696969;}#sk-container-id-4 label.sk-toggleable__label-arrow:hover:before {color: black;}#sk-container-id-4 div.sk-estimator:hover label.sk-toggleable__label-arrow:before {color: black;}#sk-container-id-4 div.sk-toggleable__content {max-height: 0;max-width: 0;overflow: hidden;text-align: left;background-color: #f0f8ff;}#sk-container-id-4 div.sk-toggleable__content pre {margin: 0.2em;color: black;border-radius: 0.25em;background-color: #f0f8ff;}#sk-container-id-4 input.sk-toggleable__control:checked~div.sk-toggleable__content {max-height: 200px;max-width: 100%;overflow: auto;}#sk-container-id-4 input.sk-toggleable__control:checked~label.sk-toggleable__label-arrow:before {content: \"▾\";}#sk-container-id-4 div.sk-estimator input.sk-toggleable__control:checked~label.sk-toggleable__label {background-color: #d4ebff;}#sk-container-id-4 div.sk-label input.sk-toggleable__control:checked~label.sk-toggleable__label {background-color: #d4ebff;}#sk-container-id-4 input.sk-hidden--visually {border: 0;clip: rect(1px 1px 1px 1px);clip: rect(1px, 1px, 1px, 1px);height: 1px;margin: -1px;overflow: hidden;padding: 0;position: absolute;width: 1px;}#sk-container-id-4 div.sk-estimator {font-family: monospace;background-color: #f0f8ff;border: 1px dotted black;border-radius: 0.25em;box-sizing: border-box;margin-bottom: 0.5em;}#sk-container-id-4 div.sk-estimator:hover {background-color: #d4ebff;}#sk-container-id-4 div.sk-parallel-item::after {content: \"\";width: 100%;border-bottom: 1px solid gray;flex-grow: 1;}#sk-container-id-4 div.sk-label:hover label.sk-toggleable__label {background-color: #d4ebff;}#sk-container-id-4 div.sk-serial::before {content: \"\";position: absolute;border-left: 1px solid gray;box-sizing: border-box;top: 0;bottom: 0;left: 50%;z-index: 0;}#sk-container-id-4 div.sk-serial {display: flex;flex-direction: column;align-items: center;background-color: white;padding-right: 0.2em;padding-left: 0.2em;position: relative;}#sk-container-id-4 div.sk-item {position: relative;z-index: 1;}#sk-container-id-4 div.sk-parallel {display: flex;align-items: stretch;justify-content: center;background-color: white;position: relative;}#sk-container-id-4 div.sk-item::before, #sk-container-id-4 div.sk-parallel-item::before {content: \"\";position: absolute;border-left: 1px solid gray;box-sizing: border-box;top: 0;bottom: 0;left: 50%;z-index: -1;}#sk-container-id-4 div.sk-parallel-item {display: flex;flex-direction: column;z-index: 1;position: relative;background-color: white;}#sk-container-id-4 div.sk-parallel-item:first-child::after {align-self: flex-end;width: 50%;}#sk-container-id-4 div.sk-parallel-item:last-child::after {align-self: flex-start;width: 50%;}#sk-container-id-4 div.sk-parallel-item:only-child::after {width: 0;}#sk-container-id-4 div.sk-dashed-wrapped {border: 1px dashed gray;margin: 0 0.4em 0.5em 0.4em;box-sizing: border-box;padding-bottom: 0.4em;background-color: white;}#sk-container-id-4 div.sk-label label {font-family: monospace;font-weight: bold;display: inline-block;line-height: 1.2em;}#sk-container-id-4 div.sk-label-container {text-align: center;}#sk-container-id-4 div.sk-container {/* jupyter's `normalize.less` sets `[hidden] { display: none; }` but bootstrap.min.css set `[hidden] { display: none !important; }` so we also need the `!important` here to be able to override the default hidden behavior on the sphinx rendered scikit-learn.org. See: https://github.com/scikit-learn/scikit-learn/issues/21755 */display: inline-block !important;position: relative;}#sk-container-id-4 div.sk-text-repr-fallback {display: none;}</style><div id=\"sk-container-id-4\" class=\"sk-top-container\"><div class=\"sk-text-repr-fallback\"><pre>LogReg(w0=array([ 3.23286101e-02,  3.62705512e-04,  1.71687417e-02,  4.02389687e-04,\n",
              "        3.06176039e-03, -1.92790971e-02,  1.76756731e-02,  5.97691308e-03,\n",
              "       -4.34337513e-03,  2.42889915e-05,  9.26749414e-05,  1.17621968e-03,\n",
              "        1.40438638e-04,  1.43362226e-03, -3.25400357e-02, -1.30883859e-02,\n",
              "        1.47852650e-02, -1.68230396e-03,  7.65197167e-03,  1.78326417e-02,\n",
              "        2.99213112e-02,  2.54816773e-0...\n",
              "       -1.87489111e-03,  2.60288251e-03,  1.48213138e-02, -1.98972470e-03,\n",
              "        2.66569859e-02,  1.12934137e-03,  1.62020937e-04,  5.68399494e-04,\n",
              "       -1.26552191e-03, -3.97622074e-04,  1.88807070e-03, -6.61065409e-04,\n",
              "       -4.86187772e-03, -5.85601932e-04, -9.81180786e-04, -9.81341967e-05,\n",
              "       -4.45899212e-03, -3.70008668e-03,  3.53951067e-03, -2.00218458e-04,\n",
              "       -4.41673521e-05, -8.19853160e-04,  8.80704554e-04,  1.46109571e-04,\n",
              "       -1.27384029e-03]))</pre><b>In a Jupyter environment, please rerun this cell to show the HTML representation or trust the notebook. <br />On GitHub, the HTML representation is unable to render, please try loading this page with nbviewer.org.</b></div><div class=\"sk-container\" hidden><div class=\"sk-item\"><div class=\"sk-estimator sk-toggleable\"><input class=\"sk-toggleable__control sk-hidden--visually\" id=\"sk-estimator-id-4\" type=\"checkbox\" checked><label for=\"sk-estimator-id-4\" class=\"sk-toggleable__label sk-toggleable__label-arrow\">LogReg</label><div class=\"sk-toggleable__content\"><pre>LogReg(w0=array([ 3.23286101e-02,  3.62705512e-04,  1.71687417e-02,  4.02389687e-04,\n",
              "        3.06176039e-03, -1.92790971e-02,  1.76756731e-02,  5.97691308e-03,\n",
              "       -4.34337513e-03,  2.42889915e-05,  9.26749414e-05,  1.17621968e-03,\n",
              "        1.40438638e-04,  1.43362226e-03, -3.25400357e-02, -1.30883859e-02,\n",
              "        1.47852650e-02, -1.68230396e-03,  7.65197167e-03,  1.78326417e-02,\n",
              "        2.99213112e-02,  2.54816773e-0...\n",
              "       -1.87489111e-03,  2.60288251e-03,  1.48213138e-02, -1.98972470e-03,\n",
              "        2.66569859e-02,  1.12934137e-03,  1.62020937e-04,  5.68399494e-04,\n",
              "       -1.26552191e-03, -3.97622074e-04,  1.88807070e-03, -6.61065409e-04,\n",
              "       -4.86187772e-03, -5.85601932e-04, -9.81180786e-04, -9.81341967e-05,\n",
              "       -4.45899212e-03, -3.70008668e-03,  3.53951067e-03, -2.00218458e-04,\n",
              "       -4.41673521e-05, -8.19853160e-04,  8.80704554e-04,  1.46109571e-04,\n",
              "       -1.27384029e-03]))</pre></div></div></div></div></div>"
            ]
          },
          "metadata": {},
          "execution_count": 26
        }
      ]
    },
    {
      "cell_type": "code",
      "source": [
        "predicts = model.predict_proba(X_test)\n",
        "fpr, tpr, thresholds = roc_curve(y_test, predicts)\n",
        "roc_auc = auc(fpr, tpr)\n",
        "print(f'ROC-AUC = {roc_auc:}')"
      ],
      "metadata": {
        "id": "ofmv3r0vvU07",
        "colab": {
          "base_uri": "https://localhost:8080/"
        },
        "outputId": "4dd05761-4d61-4c20-b08f-eacde805a02f"
      },
      "execution_count": 27,
      "outputs": [
        {
          "output_type": "stream",
          "name": "stdout",
          "text": [
            "ROC-AUC = 0.5702174546111314\n"
          ]
        }
      ]
    },
    {
      "cell_type": "markdown",
      "metadata": {
        "id": "jo26cqgRsAMI"
      },
      "source": [
        "## Часть 3. Отбор признаков (3 балла + 1 бонус)"
      ]
    },
    {
      "cell_type": "markdown",
      "metadata": {
        "id": "_t5HEx1RsAMI"
      },
      "source": [
        "Важной частью процесса построения модели является отбор признаков. На практике многие признаки оказывают малое влияние на модель (при этом они увеличивают время вычислений) или даже негативно сказываются на качестве модели. Попробуем несколько подходов отбора признаков, оценим, как они влияют на качество модели и сколько времени занимают.\n",
        "\n",
        "Обратимся к тому же датасету про обращение клиентов по страховым случаям. Обойдёмся без сэмплирования объектов."
      ]
    },
    {
      "cell_type": "code",
      "execution_count": 28,
      "metadata": {
        "ExecuteTime": {
          "end_time": "2018-10-12T07:36:04.765536Z",
          "start_time": "2018-10-12T07:35:57.814973Z"
        },
        "id": "IJko2LljsAMJ"
      },
      "outputs": [],
      "source": [
        "data = pd.read_csv('train.csv', index_col=0)\n",
        "target = data.target.values\n",
        "data = data.drop('target', axis=1)\n",
        "X_train, X_test, y_train, y_test = train_test_split(data, target, test_size=0.2, random_state=124)"
      ]
    },
    {
      "cell_type": "markdown",
      "metadata": {
        "id": "I-2hjhYWsAMK"
      },
      "source": [
        "Как вы помните, в данных много категориальных признаков. Давайте закодируем их с помощью one-hot кодирования. Исходные колонки с категориальными признаками можно удалить. Сколько признаков мы получили?"
      ]
    },
    {
      "cell_type": "code",
      "execution_count": 29,
      "metadata": {
        "id": "NM3v8m7BsAMK",
        "colab": {
          "base_uri": "https://localhost:8080/"
        },
        "outputId": "9c5b00b1-7514-4de1-9686-e8bc4fa12fdc"
      },
      "outputs": [
        {
          "output_type": "stream",
          "name": "stdout",
          "text": [
            "Мы получили 213 признаков\n"
          ]
        }
      ],
      "source": [
        "#используем OneHotEncoder для преобразования категориальных признаков в бинарные и преобразуем результаты\n",
        "enc = OneHotEncoder(drop = 'first')\n",
        "\n",
        "transformed_train = enc.fit_transform(X_train[cat_features])\n",
        "transformed_train = pd.DataFrame.sparse.from_spmatrix(transformed_train, columns=enc.get_feature_names_out())\n",
        "X_train_cat = pd.concat([transformed_train, X_train.reset_index(drop=True)], axis=1).drop(cat_features, axis=1)\n",
        "\n",
        "transformed_test = enc.transform(X_test[cat_features])\n",
        "transformed_test = pd.DataFrame.sparse.from_spmatrix(transformed_test, columns=enc.get_feature_names_out())\n",
        "X_test_cat = pd.concat([transformed_test, X_test.reset_index(drop=True)], axis=1).drop(cat_features, axis=1)\n",
        "\n",
        "print(f'Мы получили {X_train_cat.shape[1]} признаков')"
      ]
    },
    {
      "cell_type": "markdown",
      "metadata": {
        "id": "voaXEcJPsAML"
      },
      "source": [
        "В качестве основной модели будем использовать логистическую регрессию, а целевой метрики — ROC-AUC. Обучите модель и посчитайте качество на тестовой выборке. Давайте запомним полученное значение."
      ]
    },
    {
      "cell_type": "code",
      "execution_count": 30,
      "metadata": {
        "id": "oZv7NZTusAML",
        "colab": {
          "base_uri": "https://localhost:8080/",
          "height": 252
        },
        "outputId": "fa7f3291-7587-4a90-c01e-58464162e437"
      },
      "outputs": [
        {
          "output_type": "execute_result",
          "data": {
            "text/plain": [
              "LogReg(w0=array([-6.51248690e-03, -2.12944069e-03, -3.52737825e-04,  2.22895911e-06,\n",
              "       -6.25183211e-03, -2.73715853e-03, -1.01309217e-02,  3.67937803e-05,\n",
              "        2.34235693e-04, -1.50547390e-05,  1.95149296e-04,  1.42046126e-05,\n",
              "        4.36282177e-04, -2.99552030e-06, -7.11627658e-06, -1.71090027e-05,\n",
              "       -1.01160486e-04, -3.28246125e-04, -1.97369781e-04, -1.65473263e-03,\n",
              "       -4.95646585e-03, -3....\n",
              "       -2.05919730e-02, -2.96122923e-03, -4.96541316e-03, -2.86285294e-03,\n",
              "       -2.33286693e-02, -3.95385247e-03, -4.05167366e-03, -3.87651954e-03,\n",
              "       -2.02226575e-02, -1.62019857e-02, -6.45725214e-02, -2.51838072e-02,\n",
              "       -7.71120844e-02, -1.95946671e-02, -5.67532809e-02, -4.04918833e-02,\n",
              "       -1.25909701e-02, -2.31968332e-02, -5.19062652e-02, -1.10628105e-03,\n",
              "       -5.54080235e-03, -4.89109287e-03, -2.55769070e-03, -3.25977610e-03,\n",
              "       -1.38934781e-03]))"
            ],
            "text/html": [
              "<style>#sk-container-id-5 {color: black;background-color: white;}#sk-container-id-5 pre{padding: 0;}#sk-container-id-5 div.sk-toggleable {background-color: white;}#sk-container-id-5 label.sk-toggleable__label {cursor: pointer;display: block;width: 100%;margin-bottom: 0;padding: 0.3em;box-sizing: border-box;text-align: center;}#sk-container-id-5 label.sk-toggleable__label-arrow:before {content: \"▸\";float: left;margin-right: 0.25em;color: #696969;}#sk-container-id-5 label.sk-toggleable__label-arrow:hover:before {color: black;}#sk-container-id-5 div.sk-estimator:hover label.sk-toggleable__label-arrow:before {color: black;}#sk-container-id-5 div.sk-toggleable__content {max-height: 0;max-width: 0;overflow: hidden;text-align: left;background-color: #f0f8ff;}#sk-container-id-5 div.sk-toggleable__content pre {margin: 0.2em;color: black;border-radius: 0.25em;background-color: #f0f8ff;}#sk-container-id-5 input.sk-toggleable__control:checked~div.sk-toggleable__content {max-height: 200px;max-width: 100%;overflow: auto;}#sk-container-id-5 input.sk-toggleable__control:checked~label.sk-toggleable__label-arrow:before {content: \"▾\";}#sk-container-id-5 div.sk-estimator input.sk-toggleable__control:checked~label.sk-toggleable__label {background-color: #d4ebff;}#sk-container-id-5 div.sk-label input.sk-toggleable__control:checked~label.sk-toggleable__label {background-color: #d4ebff;}#sk-container-id-5 input.sk-hidden--visually {border: 0;clip: rect(1px 1px 1px 1px);clip: rect(1px, 1px, 1px, 1px);height: 1px;margin: -1px;overflow: hidden;padding: 0;position: absolute;width: 1px;}#sk-container-id-5 div.sk-estimator {font-family: monospace;background-color: #f0f8ff;border: 1px dotted black;border-radius: 0.25em;box-sizing: border-box;margin-bottom: 0.5em;}#sk-container-id-5 div.sk-estimator:hover {background-color: #d4ebff;}#sk-container-id-5 div.sk-parallel-item::after {content: \"\";width: 100%;border-bottom: 1px solid gray;flex-grow: 1;}#sk-container-id-5 div.sk-label:hover label.sk-toggleable__label {background-color: #d4ebff;}#sk-container-id-5 div.sk-serial::before {content: \"\";position: absolute;border-left: 1px solid gray;box-sizing: border-box;top: 0;bottom: 0;left: 50%;z-index: 0;}#sk-container-id-5 div.sk-serial {display: flex;flex-direction: column;align-items: center;background-color: white;padding-right: 0.2em;padding-left: 0.2em;position: relative;}#sk-container-id-5 div.sk-item {position: relative;z-index: 1;}#sk-container-id-5 div.sk-parallel {display: flex;align-items: stretch;justify-content: center;background-color: white;position: relative;}#sk-container-id-5 div.sk-item::before, #sk-container-id-5 div.sk-parallel-item::before {content: \"\";position: absolute;border-left: 1px solid gray;box-sizing: border-box;top: 0;bottom: 0;left: 50%;z-index: -1;}#sk-container-id-5 div.sk-parallel-item {display: flex;flex-direction: column;z-index: 1;position: relative;background-color: white;}#sk-container-id-5 div.sk-parallel-item:first-child::after {align-self: flex-end;width: 50%;}#sk-container-id-5 div.sk-parallel-item:last-child::after {align-self: flex-start;width: 50%;}#sk-container-id-5 div.sk-parallel-item:only-child::after {width: 0;}#sk-container-id-5 div.sk-dashed-wrapped {border: 1px dashed gray;margin: 0 0.4em 0.5em 0.4em;box-sizing: border-box;padding-bottom: 0.4em;background-color: white;}#sk-container-id-5 div.sk-label label {font-family: monospace;font-weight: bold;display: inline-block;line-height: 1.2em;}#sk-container-id-5 div.sk-label-container {text-align: center;}#sk-container-id-5 div.sk-container {/* jupyter's `normalize.less` sets `[hidden] { display: none; }` but bootstrap.min.css set `[hidden] { display: none !important; }` so we also need the `!important` here to be able to override the default hidden behavior on the sphinx rendered scikit-learn.org. See: https://github.com/scikit-learn/scikit-learn/issues/21755 */display: inline-block !important;position: relative;}#sk-container-id-5 div.sk-text-repr-fallback {display: none;}</style><div id=\"sk-container-id-5\" class=\"sk-top-container\"><div class=\"sk-text-repr-fallback\"><pre>LogReg(w0=array([-6.51248690e-03, -2.12944069e-03, -3.52737825e-04,  2.22895911e-06,\n",
              "       -6.25183211e-03, -2.73715853e-03, -1.01309217e-02,  3.67937803e-05,\n",
              "        2.34235693e-04, -1.50547390e-05,  1.95149296e-04,  1.42046126e-05,\n",
              "        4.36282177e-04, -2.99552030e-06, -7.11627658e-06, -1.71090027e-05,\n",
              "       -1.01160486e-04, -3.28246125e-04, -1.97369781e-04, -1.65473263e-03,\n",
              "       -4.95646585e-03, -3....\n",
              "       -2.05919730e-02, -2.96122923e-03, -4.96541316e-03, -2.86285294e-03,\n",
              "       -2.33286693e-02, -3.95385247e-03, -4.05167366e-03, -3.87651954e-03,\n",
              "       -2.02226575e-02, -1.62019857e-02, -6.45725214e-02, -2.51838072e-02,\n",
              "       -7.71120844e-02, -1.95946671e-02, -5.67532809e-02, -4.04918833e-02,\n",
              "       -1.25909701e-02, -2.31968332e-02, -5.19062652e-02, -1.10628105e-03,\n",
              "       -5.54080235e-03, -4.89109287e-03, -2.55769070e-03, -3.25977610e-03,\n",
              "       -1.38934781e-03]))</pre><b>In a Jupyter environment, please rerun this cell to show the HTML representation or trust the notebook. <br />On GitHub, the HTML representation is unable to render, please try loading this page with nbviewer.org.</b></div><div class=\"sk-container\" hidden><div class=\"sk-item\"><div class=\"sk-estimator sk-toggleable\"><input class=\"sk-toggleable__control sk-hidden--visually\" id=\"sk-estimator-id-5\" type=\"checkbox\" checked><label for=\"sk-estimator-id-5\" class=\"sk-toggleable__label sk-toggleable__label-arrow\">LogReg</label><div class=\"sk-toggleable__content\"><pre>LogReg(w0=array([-6.51248690e-03, -2.12944069e-03, -3.52737825e-04,  2.22895911e-06,\n",
              "       -6.25183211e-03, -2.73715853e-03, -1.01309217e-02,  3.67937803e-05,\n",
              "        2.34235693e-04, -1.50547390e-05,  1.95149296e-04,  1.42046126e-05,\n",
              "        4.36282177e-04, -2.99552030e-06, -7.11627658e-06, -1.71090027e-05,\n",
              "       -1.01160486e-04, -3.28246125e-04, -1.97369781e-04, -1.65473263e-03,\n",
              "       -4.95646585e-03, -3....\n",
              "       -2.05919730e-02, -2.96122923e-03, -4.96541316e-03, -2.86285294e-03,\n",
              "       -2.33286693e-02, -3.95385247e-03, -4.05167366e-03, -3.87651954e-03,\n",
              "       -2.02226575e-02, -1.62019857e-02, -6.45725214e-02, -2.51838072e-02,\n",
              "       -7.71120844e-02, -1.95946671e-02, -5.67532809e-02, -4.04918833e-02,\n",
              "       -1.25909701e-02, -2.31968332e-02, -5.19062652e-02, -1.10628105e-03,\n",
              "       -5.54080235e-03, -4.89109287e-03, -2.55769070e-03, -3.25977610e-03,\n",
              "       -1.38934781e-03]))</pre></div></div></div></div></div>"
            ]
          },
          "metadata": {},
          "execution_count": 30
        }
      ],
      "source": [
        "w0 = np.zeros(X_train_cat.shape[1])\n",
        "model = LogReg(gd_type='stochastic', w0=w0, max_iter=100)\n",
        "model.fit(X_train_cat, y_train)"
      ]
    },
    {
      "cell_type": "code",
      "source": [
        "predicts = model.predict_proba(X_test_cat)\n",
        "fpr, tpr, thresholds = roc_curve(y_test, predicts)\n",
        "roc_auc = auc(fpr, tpr)\n",
        "print(f'ROC-AUC = {roc_auc}')"
      ],
      "metadata": {
        "id": "XJEfPR6cvflt",
        "colab": {
          "base_uri": "https://localhost:8080/"
        },
        "outputId": "7e3a8700-04e5-43bd-b858-a178b67d0a73"
      },
      "execution_count": 31,
      "outputs": [
        {
          "output_type": "stream",
          "name": "stdout",
          "text": [
            "ROC-AUC = 0.5103994409580261\n"
          ]
        }
      ]
    },
    {
      "cell_type": "markdown",
      "metadata": {
        "id": "gueBNfAysAMM"
      },
      "source": [
        "### Встроенные методы"
      ]
    },
    {
      "cell_type": "markdown",
      "metadata": {
        "id": "CEig8IXbsAMM"
      },
      "source": [
        "Допустим, мы хотим оставить только 200 лучших признаков. Попробуем сделать это несколькими способами.\n",
        "\n",
        "Начнём с отборам признаков с помощью линейной модели. Как известно, веса линейной модели означают вклад каждого признака в предсказание модели, а значит, модуль этого вклада можно интерпретировать как важность признаков. Такой метод отбора называются встроенным или embedded methods, так как он заложен в особенности модели.\n",
        "\n",
        "__Задание 10 (1 балл).__ Оставьте 200 признаков с наибольшим модулем соответсвующего параметра линейной модели. Обучите модели заново и оцените её качество. Замерьте скорость такого отбора признаков.\n",
        "\n",
        "Изменилось ли качество? Как?"
      ]
    },
    {
      "cell_type": "code",
      "execution_count": 32,
      "metadata": {
        "id": "p00UwwgpsAMV",
        "colab": {
          "base_uri": "https://localhost:8080/"
        },
        "outputId": "85403d03-daa0-4f5d-9980-37f348e829b7"
      },
      "outputs": [
        {
          "output_type": "stream",
          "name": "stdout",
          "text": [
            "CPU times: user 24.4 ms, sys: 11.5 ms, total: 35.9 ms\n",
            "Wall time: 36.5 ms\n"
          ]
        }
      ],
      "source": [
        "%%time\n",
        "# Вычислили абсолютные значения параметров модели и отсортируем их\n",
        "params = np.abs(model.w).values.argsort()[-200:]\n",
        "# сделаем новые наборы\n",
        "X_train_sorted = X_train_cat.iloc[:, params]\n",
        "X_test_sorted = X_test_cat.iloc[:, params]"
      ]
    },
    {
      "cell_type": "markdown",
      "metadata": {
        "id": "p5gHSje6sAMV"
      },
      "source": [
        "А теперь давайте подумаем, что мы не учли. Мы предположили, что признаки вносят вклад равномерно, но не учли их масштаба. Если мы умножим один из признаков в 100 раз, то без учёта регуляризации его вес уменьшится в эти же 100 раз. А мы на основе этого отбираем признаки! Давайте сначала отнормируем признаки одним из способов, а только потом будем удалять признаки.\n",
        "\n",
        "Кстати, в таком случае надо пересчитать качество на всех признаках (сделайте это ниже). Если вы сделали нормирование признаков в самом начале, то попробуйте отобрать признаки на неотмасштабированных данных.\n",
        "\n",
        "Что получилось?"
      ]
    },
    {
      "cell_type": "code",
      "execution_count": 33,
      "metadata": {
        "id": "szu9APhJsAMV",
        "colab": {
          "base_uri": "https://localhost:8080/"
        },
        "outputId": "a7b51788-372d-4892-ee0d-6be97d5c169e"
      },
      "outputs": [
        {
          "output_type": "stream",
          "name": "stderr",
          "text": [
            "/usr/local/lib/python3.10/dist-packages/sklearn/utils/validation.py:768: UserWarning: pandas.DataFrame with sparse columns found.It will be converted to a dense numpy array.\n",
            "  warnings.warn(\n",
            "/usr/local/lib/python3.10/dist-packages/sklearn/utils/validation.py:768: UserWarning: pandas.DataFrame with sparse columns found.It will be converted to a dense numpy array.\n",
            "  warnings.warn(\n",
            "/usr/local/lib/python3.10/dist-packages/sklearn/utils/validation.py:768: UserWarning: pandas.DataFrame with sparse columns found.It will be converted to a dense numpy array.\n",
            "  warnings.warn(\n"
          ]
        },
        {
          "output_type": "stream",
          "name": "stdout",
          "text": [
            "Качество на масштабированных данных: ROC-AUC = 0.6330188004746173\n"
          ]
        }
      ],
      "source": [
        "from sklearn.preprocessing import StandardScaler\n",
        "from sklearn.metrics import roc_curve, auc\n",
        "import numpy as np\n",
        "\n",
        "# Масштабирование данных\n",
        "scaler = StandardScaler()\n",
        "X_train_scaled = scaler.fit_transform(X_train_cat)\n",
        "X_test_scaled = scaler.transform(X_test_cat)\n",
        "\n",
        "# Инициализация и обучение модели\n",
        "w0 = np.zeros(X_train_scaled.shape[1])\n",
        "model = LogReg(gd_type='stochastic', w0=w0, max_iter=100)\n",
        "model.fit(X_train_scaled, y_train)\n",
        "\n",
        "# Предсказание и вычисление ROC-AUC\n",
        "predicts = model.predict_proba(X_test_scaled)\n",
        "roc_auc = auc(*roc_curve(y_test, predicts)[:2])\n",
        "print(f'Качество на масштабированных данных: ROC-AUC = {roc_auc}')"
      ]
    },
    {
      "cell_type": "code",
      "source": [
        "from sklearn.metrics import roc_curve, auc\n",
        "\n",
        "# Выборка 200 самых значимых признаков\n",
        "X_train_sorted = X_train_scaled[:, np.abs(model.w).argsort()[-200:]]\n",
        "X_test_sorted = X_test_scaled[:, np.abs(model.w).argsort()[-200:]]\n",
        "\n",
        "# Инициализация и обучение модели\n",
        "w0 = np.zeros(X_train_sorted.shape[1])\n",
        "model = LogReg(gd_type='stochastic', w0=w0, max_iter=100)\n",
        "model.fit(X_train_sorted, y_train)\n",
        "\n",
        "# Предсказание и вычисление ROC-AUC\n",
        "predicts = model.predict_proba(X_test_sorted)\n",
        "roc_auc = auc(*roc_curve(y_test, predicts)[:2])\n",
        "print(f'Качество на 200 наиболее значимых признаках: ROC-AUC = {roc_auc}')\n"
      ],
      "metadata": {
        "colab": {
          "base_uri": "https://localhost:8080/"
        },
        "id": "lk4k6ta_k72N",
        "outputId": "af5da777-188f-4c1a-cbb5-3503830bc590"
      },
      "execution_count": 34,
      "outputs": [
        {
          "output_type": "stream",
          "name": "stdout",
          "text": [
            "Качество на 200 наиболее значимых признаках: ROC-AUC = 0.63301925638288\n"
          ]
        }
      ]
    },
    {
      "cell_type": "markdown",
      "metadata": {
        "id": "Kfy-r2-UsAMW"
      },
      "source": [
        "__Задание 10 (0.5 балла).__\n",
        "Можно задать отбор признаков более функционально. Вспомним, что L1-регуляризация также умеет отбирать признаки. Понятно, что теперь нам будет сложнее оставить именно 200 лучших признаков, но возможно они нам и не нужны. Подберите коэффициент регуляризации и проверьте, как изменилось качество. Получилось ли добиться лучшего качества при менее чем 200 признаках?"
      ]
    },
    {
      "cell_type": "code",
      "execution_count": 35,
      "metadata": {
        "id": "XP5lno3VsAMW",
        "colab": {
          "base_uri": "https://localhost:8080/"
        },
        "outputId": "4f879408-094f-4bee-c267-b52dd720f1b5"
      },
      "outputs": [
        {
          "output_type": "stream",
          "name": "stdout",
          "text": [
            "ROC-AUC = 0.6384280229040726\n",
            "Количество выбранных признаков: 130\n"
          ]
        }
      ],
      "source": [
        "from sklearn.linear_model import LogisticRegression\n",
        "from sklearn.metrics import roc_auc_score\n",
        "\n",
        "# Обучение модели с L1-регуляризацией\n",
        "model = LogisticRegression(penalty='l1', C=0.01, max_iter=100, solver='liblinear')\n",
        "model.fit(X_train_scaled, y_train)\n",
        "\n",
        "# Оценка качества модели\n",
        "predicts = model.predict_proba(X_test_scaled)[:, 1]\n",
        "roc_auc = roc_auc_score(y_test, predicts)\n",
        "print(f'ROC-AUC = {roc_auc}')\n",
        "\n",
        "# Подсчет количества выбранных признаков\n",
        "num_features = np.sum(model.coef_ != 0)\n",
        "print(f'Количество выбранных признаков: {num_features}')\n"
      ]
    },
    {
      "cell_type": "markdown",
      "metadata": {
        "id": "aVHTMubQsAMW"
      },
      "source": [
        "### Методы фильтрации"
      ]
    },
    {
      "cell_type": "markdown",
      "metadata": {
        "id": "ijYyQxh4sAMW"
      },
      "source": [
        "Давайте отбирать признаки умнее, а именно через подсчёт некоторой функции для каждого признака. На основании значений этой функции будем оставлять наиболее важные признаки. Методы этого семейства называют фильтрующими или  filter methods.\n",
        "\n",
        "В качестве такой функции будем считать t-статистику:\n",
        "\n",
        "$$t(x) = \\frac{|\\mu_+ - \\mu_-|}{\\sqrt{\\frac{n_+ \\sigma^2_+ + n_- \\sigma^2_-}{n_+ + n_-}}},$$\n",
        "\n",
        "где $mu$, $sigma$, $n$ соответственно среднее, среднеквадратичное отклонение и количество объектов каждого из классов.\n",
        "\n",
        "Если у вас был курс математической статистики, то вы без труда узнаете статистику гипотезы о разности средних при неизвестных дисперсиях. Если же нет, то интуиция следующая. Вообще мы хотим понять, различаются ли распределения признака для двух разных классов. Мы проверяем, что математические ожидания двух распределений различаются. Если они различаются, значит и сами распределения разные. Отсюда можно сделать вывод, что по этому признаку модель сможет отличить один класс от другого. А если распределения неотличимы и статистика маленькая, то и признак бесполезен.\n",
        "\n",
        "Важно оговориться, что хотя мы и не используем статистическое тестирование явно, предпосылки о том, что наблюдения независимы, одинаково распределены и n велико, должны соблюдаться, иначе статистика не имеет смысла. Но у нас большая выборка, поэтому они выполняются. По-хорошему, конечно, надо бы сравнивать статистику с пороговым значением t-распределения и полноценно тестировать гипотезу, но мы обойдёмся простой эвристикой и возьмём признаки с наибольшим значением.\n",
        "\n",
        "\n",
        "__Задание 11 (1 балл)__. Оставьте 200 признаков с наибольшим значением и замерьте качество. Не забудьте замерить скорость отбора признаков в этом случаев."
      ]
    },
    {
      "cell_type": "code",
      "execution_count": 36,
      "metadata": {
        "id": "QvUc3MADsAMW",
        "colab": {
          "base_uri": "https://localhost:8080/"
        },
        "outputId": "f25512c5-ffa5-44a0-95e6-c566425b7756"
      },
      "outputs": [
        {
          "output_type": "stream",
          "name": "stdout",
          "text": [
            "ROC-AUC = 0.6380421913725285\n",
            "Время выполнения: 14.183801651000977 секунд\n"
          ]
        },
        {
          "output_type": "stream",
          "name": "stderr",
          "text": [
            "/usr/local/lib/python3.10/dist-packages/sklearn/linear_model/_logistic.py:458: ConvergenceWarning: lbfgs failed to converge (status=1):\n",
            "STOP: TOTAL NO. of ITERATIONS REACHED LIMIT.\n",
            "\n",
            "Increase the number of iterations (max_iter) or scale the data as shown in:\n",
            "    https://scikit-learn.org/stable/modules/preprocessing.html\n",
            "Please also refer to the documentation for alternative solver options:\n",
            "    https://scikit-learn.org/stable/modules/linear_model.html#logistic-regression\n",
            "  n_iter_i = _check_optimize_result(\n"
          ]
        }
      ],
      "source": [
        "from sklearn.linear_model import LogisticRegression\n",
        "from sklearn.metrics import roc_auc_score\n",
        "import numpy as np\n",
        "import time\n",
        "\n",
        "# Функция для расчета t-статистики\n",
        "def t_stat(x):\n",
        "    x_pos = x[y_train == 1]\n",
        "    x_neg = x[y_train == 0]\n",
        "    mu_plus = np.mean(x_pos)\n",
        "    mu_minus = np.mean(x_neg)\n",
        "    sigma_plus = np.std(x_pos)\n",
        "    sigma_minus = np.std(x_neg)\n",
        "    return abs(mu_plus - mu_minus) / np.sqrt((len(x_pos) * sigma_plus**2 + len(x_neg) * sigma_minus**2) / (len(x_pos) + len(x_neg)))\n",
        "\n",
        "# Замер времени начала\n",
        "start_time = time.time()\n",
        "\n",
        "# Отбор признаков\n",
        "scores = np.apply_along_axis(t_stat, axis=0, arr=X_train_scaled).argsort()[-200:]\n",
        "X_train_selected = X_train_scaled[:, scores]\n",
        "X_test_selected = X_test_scaled[:, scores]\n",
        "\n",
        "# Обучение модели\n",
        "model = LogisticRegression()\n",
        "model.fit(X_train_selected, y_train)\n",
        "\n",
        "# Оценка качества модели\n",
        "predicts = model.predict_proba(X_test_selected)[:, 1]\n",
        "roc_auc = roc_auc_score(y_test, predicts)\n",
        "print(f'ROC-AUC = {roc_auc}')\n",
        "\n",
        "# Замер времени окончания и вывод результата\n",
        "end_time = time.time()\n",
        "print(f\"Время выполнения: {end_time - start_time} секунд\")\n"
      ]
    },
    {
      "cell_type": "code",
      "source": [
        "# Отбор 130 признаков\n",
        "scores = np.apply_along_axis(t_stat, axis=0, arr=X_train_scaled).argsort()[-130:]\n",
        "\n",
        "# Обучение модели LogReg\n",
        "w0 = np.zeros(X_train_scaled[:, scores].shape[1])\n",
        "model = LogReg(gd_type='stochastic', w0=w0, max_iter=100, eta=1e-2)  # Указывайте параметры, если они отличаются от значений по умолчанию\n",
        "model.fit(X_train_scaled[:, scores], y_train)\n",
        "\n",
        "# Оценка качества модели\n",
        "predicts = model.predict_proba(X_test_scaled[:, scores])\n",
        "roc_auc = auc(*roc_curve(y_test, predicts)[:2])\n",
        "print(f'Качество c использованием фильтрации по t-статистике до 130 признаков: ROC-AUC = {roc_auc}')"
      ],
      "metadata": {
        "id": "21w3FB_iv9J_",
        "colab": {
          "base_uri": "https://localhost:8080/"
        },
        "outputId": "f1df1721-3298-4256-930f-02bee623eaf1"
      },
      "execution_count": 41,
      "outputs": [
        {
          "output_type": "stream",
          "name": "stdout",
          "text": [
            "Качество c использованием фильтрации по t-статистике до 130 признаков: ROC-AUC = 0.632898781615831\n"
          ]
        }
      ]
    },
    {
      "cell_type": "markdown",
      "metadata": {
        "id": "D2kzFr9OsAMX"
      },
      "source": [
        "### Методы-обёртки"
      ]
    },
    {
      "cell_type": "markdown",
      "metadata": {
        "id": "J-QgenoNsAMX"
      },
      "source": [
        "__Задание 12 (бонус, 1 балл)__.\n",
        "\n",
        "\n",
        "Заключительный из рассматриваемых нами методов работает следующим образом: мы исключаем по очереди один из признаков и смотрим, как это влияет на качество. Удаляем признаки таким жадным способом, пока не достигнем некоторого критерия (количество признаков или ухудшением качества).\n",
        "\n",
        "Заметим, что нельзя оценивать качество по тестовой выборке, иначе мы можем переобучиться, как, например, при настройке гиперпараметров. Разделите выборку на 2 части, на одной из них обучайте модель без одного из признаков,  на второй части оценивайте качество. Исходную тестовую выборку стоит использовать только на финальной оценке качества.\n",
        "\n",
        "Сделайте одну итерацию и прикиньте, сколько времени займёт такой отбор признаков. Кажется, что чересчур. Давайте возьмём маленький сэмпл данных (например, в 10 тысяч объектов), что сильно уменьшит время итерации. Теперь это долго, но уже приемлимо.\n",
        "\n",
        "Если это всё ещё долго для вашего комьютера, можете попробовать брать не по одному признаку, а сразу по пять (и удалять сразу тоже по 5). Для этого перед каждой итерацией удаления делите заново все признаки на группы по 5 штук.\n",
        "\n",
        "Снова оставьте только 200 признаков и оцените качество на тестовой выборке. Сколько времени занял такой отбор признаков?"
      ]
    },
    {
      "cell_type": "code",
      "execution_count": 42,
      "metadata": {
        "id": "Zf0XqHpIsAMX",
        "colab": {
          "base_uri": "https://localhost:8080/"
        },
        "outputId": "c9f366db-8dd3-41e5-ba03-6b4ec72780f8"
      },
      "outputs": [
        {
          "output_type": "execute_result",
          "data": {
            "text/plain": [
              "213"
            ]
          },
          "metadata": {},
          "execution_count": 42
        }
      ],
      "source": [
        "X_test_scaled.shape[1]"
      ]
    },
    {
      "cell_type": "code",
      "source": [
        "%%time\n",
        "w0 = np.zeros(213)\n",
        "model = LogReg(gd_type='stochastic', w0=w0, max_iter=100)\n",
        "model.fit(X_train_scaled[:, :213], y_train)"
      ],
      "metadata": {
        "id": "SnJkXSwNwDJE",
        "colab": {
          "base_uri": "https://localhost:8080/",
          "height": 287
        },
        "outputId": "ba6bf98d-383f-45f0-abe6-8d2741f90764"
      },
      "execution_count": 43,
      "outputs": [
        {
          "output_type": "stream",
          "name": "stdout",
          "text": [
            "CPU times: user 18.2 s, sys: 2.87 s, total: 21.1 s\n",
            "Wall time: 13.5 s\n"
          ]
        },
        {
          "output_type": "execute_result",
          "data": {
            "text/plain": [
              "LogReg(w0=array([-1.01086438e-03,  8.51283778e-04, -3.86106621e-05,  4.46049409e-04,\n",
              "       -1.14703681e-03,  1.05307801e-03, -5.66346514e-03,  9.01417315e-04,\n",
              "        2.82184396e-03,  6.27186674e-04,  2.07057508e-03,  5.03369712e-04,\n",
              "        3.31175805e-03,  6.72460684e-04,  1.97291766e-04,  4.49377639e-04,\n",
              "        2.53966535e-04,  4.25154071e-04,  2.71050813e-04, -1.40843239e-03,\n",
              "       -3.14674582e-03,  1.05324562e-...\n",
              "       -4.35004632e-04,  3.89787387e-03,  5.72264138e-03, -6.92252749e-04,\n",
              "        3.20904313e-03,  1.97502701e-04, -1.14665384e-04,  3.95429309e-04,\n",
              "        5.33580395e-05, -3.84889189e-05,  7.75158196e-05, -3.68804814e-05,\n",
              "       -2.86520701e-04,  1.77901693e-04,  9.08463995e-05,  3.64064997e-05,\n",
              "       -2.44741933e-04,  5.03799974e-05,  1.72159634e-04, -3.01102643e-05,\n",
              "        4.28401403e-05,  4.54096629e-05,  1.32720122e-05, -3.09844814e-04,\n",
              "       -1.10746786e-05]))"
            ],
            "text/html": [
              "<style>#sk-container-id-6 {color: black;background-color: white;}#sk-container-id-6 pre{padding: 0;}#sk-container-id-6 div.sk-toggleable {background-color: white;}#sk-container-id-6 label.sk-toggleable__label {cursor: pointer;display: block;width: 100%;margin-bottom: 0;padding: 0.3em;box-sizing: border-box;text-align: center;}#sk-container-id-6 label.sk-toggleable__label-arrow:before {content: \"▸\";float: left;margin-right: 0.25em;color: #696969;}#sk-container-id-6 label.sk-toggleable__label-arrow:hover:before {color: black;}#sk-container-id-6 div.sk-estimator:hover label.sk-toggleable__label-arrow:before {color: black;}#sk-container-id-6 div.sk-toggleable__content {max-height: 0;max-width: 0;overflow: hidden;text-align: left;background-color: #f0f8ff;}#sk-container-id-6 div.sk-toggleable__content pre {margin: 0.2em;color: black;border-radius: 0.25em;background-color: #f0f8ff;}#sk-container-id-6 input.sk-toggleable__control:checked~div.sk-toggleable__content {max-height: 200px;max-width: 100%;overflow: auto;}#sk-container-id-6 input.sk-toggleable__control:checked~label.sk-toggleable__label-arrow:before {content: \"▾\";}#sk-container-id-6 div.sk-estimator input.sk-toggleable__control:checked~label.sk-toggleable__label {background-color: #d4ebff;}#sk-container-id-6 div.sk-label input.sk-toggleable__control:checked~label.sk-toggleable__label {background-color: #d4ebff;}#sk-container-id-6 input.sk-hidden--visually {border: 0;clip: rect(1px 1px 1px 1px);clip: rect(1px, 1px, 1px, 1px);height: 1px;margin: -1px;overflow: hidden;padding: 0;position: absolute;width: 1px;}#sk-container-id-6 div.sk-estimator {font-family: monospace;background-color: #f0f8ff;border: 1px dotted black;border-radius: 0.25em;box-sizing: border-box;margin-bottom: 0.5em;}#sk-container-id-6 div.sk-estimator:hover {background-color: #d4ebff;}#sk-container-id-6 div.sk-parallel-item::after {content: \"\";width: 100%;border-bottom: 1px solid gray;flex-grow: 1;}#sk-container-id-6 div.sk-label:hover label.sk-toggleable__label {background-color: #d4ebff;}#sk-container-id-6 div.sk-serial::before {content: \"\";position: absolute;border-left: 1px solid gray;box-sizing: border-box;top: 0;bottom: 0;left: 50%;z-index: 0;}#sk-container-id-6 div.sk-serial {display: flex;flex-direction: column;align-items: center;background-color: white;padding-right: 0.2em;padding-left: 0.2em;position: relative;}#sk-container-id-6 div.sk-item {position: relative;z-index: 1;}#sk-container-id-6 div.sk-parallel {display: flex;align-items: stretch;justify-content: center;background-color: white;position: relative;}#sk-container-id-6 div.sk-item::before, #sk-container-id-6 div.sk-parallel-item::before {content: \"\";position: absolute;border-left: 1px solid gray;box-sizing: border-box;top: 0;bottom: 0;left: 50%;z-index: -1;}#sk-container-id-6 div.sk-parallel-item {display: flex;flex-direction: column;z-index: 1;position: relative;background-color: white;}#sk-container-id-6 div.sk-parallel-item:first-child::after {align-self: flex-end;width: 50%;}#sk-container-id-6 div.sk-parallel-item:last-child::after {align-self: flex-start;width: 50%;}#sk-container-id-6 div.sk-parallel-item:only-child::after {width: 0;}#sk-container-id-6 div.sk-dashed-wrapped {border: 1px dashed gray;margin: 0 0.4em 0.5em 0.4em;box-sizing: border-box;padding-bottom: 0.4em;background-color: white;}#sk-container-id-6 div.sk-label label {font-family: monospace;font-weight: bold;display: inline-block;line-height: 1.2em;}#sk-container-id-6 div.sk-label-container {text-align: center;}#sk-container-id-6 div.sk-container {/* jupyter's `normalize.less` sets `[hidden] { display: none; }` but bootstrap.min.css set `[hidden] { display: none !important; }` so we also need the `!important` here to be able to override the default hidden behavior on the sphinx rendered scikit-learn.org. See: https://github.com/scikit-learn/scikit-learn/issues/21755 */display: inline-block !important;position: relative;}#sk-container-id-6 div.sk-text-repr-fallback {display: none;}</style><div id=\"sk-container-id-6\" class=\"sk-top-container\"><div class=\"sk-text-repr-fallback\"><pre>LogReg(w0=array([-1.01086438e-03,  8.51283778e-04, -3.86106621e-05,  4.46049409e-04,\n",
              "       -1.14703681e-03,  1.05307801e-03, -5.66346514e-03,  9.01417315e-04,\n",
              "        2.82184396e-03,  6.27186674e-04,  2.07057508e-03,  5.03369712e-04,\n",
              "        3.31175805e-03,  6.72460684e-04,  1.97291766e-04,  4.49377639e-04,\n",
              "        2.53966535e-04,  4.25154071e-04,  2.71050813e-04, -1.40843239e-03,\n",
              "       -3.14674582e-03,  1.05324562e-...\n",
              "       -4.35004632e-04,  3.89787387e-03,  5.72264138e-03, -6.92252749e-04,\n",
              "        3.20904313e-03,  1.97502701e-04, -1.14665384e-04,  3.95429309e-04,\n",
              "        5.33580395e-05, -3.84889189e-05,  7.75158196e-05, -3.68804814e-05,\n",
              "       -2.86520701e-04,  1.77901693e-04,  9.08463995e-05,  3.64064997e-05,\n",
              "       -2.44741933e-04,  5.03799974e-05,  1.72159634e-04, -3.01102643e-05,\n",
              "        4.28401403e-05,  4.54096629e-05,  1.32720122e-05, -3.09844814e-04,\n",
              "       -1.10746786e-05]))</pre><b>In a Jupyter environment, please rerun this cell to show the HTML representation or trust the notebook. <br />On GitHub, the HTML representation is unable to render, please try loading this page with nbviewer.org.</b></div><div class=\"sk-container\" hidden><div class=\"sk-item\"><div class=\"sk-estimator sk-toggleable\"><input class=\"sk-toggleable__control sk-hidden--visually\" id=\"sk-estimator-id-6\" type=\"checkbox\" checked><label for=\"sk-estimator-id-6\" class=\"sk-toggleable__label sk-toggleable__label-arrow\">LogReg</label><div class=\"sk-toggleable__content\"><pre>LogReg(w0=array([-1.01086438e-03,  8.51283778e-04, -3.86106621e-05,  4.46049409e-04,\n",
              "       -1.14703681e-03,  1.05307801e-03, -5.66346514e-03,  9.01417315e-04,\n",
              "        2.82184396e-03,  6.27186674e-04,  2.07057508e-03,  5.03369712e-04,\n",
              "        3.31175805e-03,  6.72460684e-04,  1.97291766e-04,  4.49377639e-04,\n",
              "        2.53966535e-04,  4.25154071e-04,  2.71050813e-04, -1.40843239e-03,\n",
              "       -3.14674582e-03,  1.05324562e-...\n",
              "       -4.35004632e-04,  3.89787387e-03,  5.72264138e-03, -6.92252749e-04,\n",
              "        3.20904313e-03,  1.97502701e-04, -1.14665384e-04,  3.95429309e-04,\n",
              "        5.33580395e-05, -3.84889189e-05,  7.75158196e-05, -3.68804814e-05,\n",
              "       -2.86520701e-04,  1.77901693e-04,  9.08463995e-05,  3.64064997e-05,\n",
              "       -2.44741933e-04,  5.03799974e-05,  1.72159634e-04, -3.01102643e-05,\n",
              "        4.28401403e-05,  4.54096629e-05,  1.32720122e-05, -3.09844814e-04,\n",
              "       -1.10746786e-05]))</pre></div></div></div></div></div>"
            ]
          },
          "metadata": {},
          "execution_count": 43
        }
      ]
    },
    {
      "cell_type": "code",
      "source": [
        "np.random.seed(42)\n",
        "indices = np.random.choice(np.arange(X_train_scaled.shape[0]), 10000)\n",
        "X_train_small = X_train_scaled[indices]\n",
        "y_train_small = y_train[indices]\n",
        "\n",
        "X_test_small, X_val_small, y_test_small, y_val_small = train_test_split(X_test_scaled, y_test, test_size=0.5, random_state=42)"
      ],
      "metadata": {
        "id": "Vc4E0emLwLV8"
      },
      "execution_count": 44,
      "outputs": []
    },
    {
      "cell_type": "code",
      "source": [
        "w0 = np.zeros(X_train_small.shape[1])\n",
        "model = LogReg(gd_type='stochastic', w0=w0)\n",
        "model.fit(X_train_small, y_train_small)\n",
        "\n",
        "predicts = model.predict_proba(X_val_small)\n",
        "fpr, tpr, thresholds = roc_curve(y_val_small, predicts)\n",
        "roc_auc = auc(fpr, tpr)\n",
        "print(f'Качество при обучении на 10000 признаков без отбора: ROC-AUC = {roc_auc}')"
      ],
      "metadata": {
        "id": "BcPA2rltwN3o",
        "colab": {
          "base_uri": "https://localhost:8080/"
        },
        "outputId": "bd0adc61-6e16-45bb-b818-f92599a47d9c"
      },
      "execution_count": 45,
      "outputs": [
        {
          "output_type": "stream",
          "name": "stdout",
          "text": [
            "Качество при обучении на 10000 признаков без отбора: ROC-AUC = 0.56723\n"
          ]
        }
      ]
    },
    {
      "cell_type": "code",
      "source": [
        "%%time\n",
        "for _ in range(X_train_small.shape[1]-200):\n",
        "  roc_auc = 0\n",
        "  index_to_remove = 0\n",
        "  for i in range(X_train_small.shape[1]):\n",
        "    X_train_small_temp = np.delete(X_train_small, [i], axis=1)\n",
        "    X_test_small_temp = np.delete(X_test_small, [i], axis=1)\n",
        "\n",
        "    w0 = np.zeros(X_train_small_temp.shape[1])\n",
        "    model = LogReg(gd_type='stochastic', w0=w0)\n",
        "    model.fit(X_train_small_temp, y_train_small)\n",
        "\n",
        "    predicts = model.predict_proba(X_test_small_temp)\n",
        "    fpr, tpr, thresholds = roc_curve(y_test_small, predicts)\n",
        "    roc_auc_temp = auc(fpr, tpr)\n",
        "\n",
        "    if roc_auc_temp > roc_auc:\n",
        "      roc_auc = roc_auc_temp\n",
        "      index_to_remove = i\n",
        "\n",
        "  X_train_small = np.delete(X_train_small, [index_to_remove], axis=1)\n",
        "  X_test_small = np.delete(X_test_small, [index_to_remove], axis=1)\n",
        "  X_val_small = np.delete(X_val_small, [index_to_remove], axis=1)\n",
        "  print(f'После удаление признака №{index_to_remove} качество модели на тестовых данных стало {roc_auc}')"
      ],
      "metadata": {
        "id": "YM2RCxGIwPbz"
      },
      "execution_count": null,
      "outputs": []
    },
    {
      "cell_type": "code",
      "source": [
        "w0 = np.zeros(X_train_small.shape[1])\n",
        "model = LogReg(gd_type='stochastic', w0=w0)\n",
        "model.fit(X_train_small, y_train_small)\n",
        "\n",
        "predicts = model.predict_proba(X_val_small)\n",
        "fpr, tpr, thresholds = roc_curve(y_val_small, predicts)\n",
        "roc_auc = auc(fpr, tpr)\n",
        "print(f'Качество модели, обученной на 10000 признаков c отбором 200 признаков методом-обертки составило: ROC-AUC = {roc_auc}')"
      ],
      "metadata": {
        "id": "jak1aSpfwXKb",
        "colab": {
          "base_uri": "https://localhost:8080/"
        },
        "outputId": "4e423f96-05a0-4934-d701-d88f23238881"
      },
      "execution_count": 79,
      "outputs": [
        {
          "output_type": "stream",
          "name": "stdout",
          "text": [
            "Качество модели, обученной на 10000 признаков c отбором 200 признаков методом-обертки составило: ROC-AUC = 0.57627\n"
          ]
        }
      ]
    },
    {
      "cell_type": "markdown",
      "metadata": {
        "id": "xbZ0By2HsAMX"
      },
      "source": [
        "Опционально (это не оценивается) можете рассмотреть более интересные стратегии отбора, чем жадная. Например, генетические алгоритмы. Можно закодировать бинарным вектором, включаем мы или нет тот или иной признак в модель. А дальше генетическим алгоритмом оптимизировать этот вектор. Всё ещё не быстро, но точно быстрее жадного.\n"
      ]
    },
    {
      "cell_type": "markdown",
      "metadata": {
        "id": "p5OPUxvQsAMY"
      },
      "source": [
        "**Задание 13 (0.5 балла)** Давайте подведём итоги по отбору признаков. Назовите преимущества и недостатки каждого из методов. Какой метод привёл к наилучшему качеству? Если не делали бонус — сравните встроенный метод и метод фильтрации.\n",
        "\n",
        "**Ответ:** ..."
      ]
    },
    {
      "cell_type": "markdown",
      "source": [
        "## Метод фильтрации\n",
        "### Преимущества:\n",
        "\n",
        "* Не зависит от модели машинного обучения.\n",
        "* Легко масштабируется на большие наборы данных.\n",
        "\n",
        "### Недостатки:\n",
        "\n",
        "* Игнорирует взаимодействие между признаками.\n",
        "Решение о количестве оставляемых признаков может быть неочевидным.\n",
        "\n",
        "\n",
        "## Встроенные методы\n",
        "### Преимущества:\n",
        "\n",
        "* Интегрированы в процесс обучения, что обеспечивает лучшую адаптацию к задаче.\n",
        "* Способны учитывать взаимосвязи между признаками.\n",
        "\n",
        "### Недостатки:\n",
        "\n",
        "* Результаты зависят от выбранной модели.\n",
        "* Риск переобучения при неправильной настройке гиперпараметров.\n",
        "\n",
        "## Методы-обертки\n",
        "\n",
        "### Преимущества:\n",
        "\n",
        "* Подходят для достижения максимально возможного качества модели, в нашем случае не удалось.\n",
        "* Позволяют оценить влияние каждого признака на производительность модели.\n",
        "\n",
        "### Недостатки:\n",
        "\n",
        "* Требуют значительных вычислительных ресурсов и времени.\n",
        "* Риск переобучения из-за интенсивного тестирования модели на разных подмножествах признаков."
      ],
      "metadata": {
        "id": "_cU0mBD3qXYC"
      }
    },
    {
      "cell_type": "markdown",
      "source": [
        "## Метод, который привёл к наилучшему качеству\n",
        "\n",
        "\n",
        "Встроенные методы\n",
        "Качество при обучении 200 признаках ROC-AUC = 0.6380421913725285"
      ],
      "metadata": {
        "id": "ZiJuHH0cq3Uy"
      }
    }
  ],
  "metadata": {
    "kernelspec": {
      "display_name": "Python 3",
      "language": "python",
      "name": "python3"
    },
    "language_info": {
      "codemirror_mode": {
        "name": "ipython",
        "version": 3
      },
      "file_extension": ".py",
      "mimetype": "text/x-python",
      "name": "python",
      "nbconvert_exporter": "python",
      "pygments_lexer": "ipython3",
      "version": "3.7.1"
    },
    "toc": {
      "base_numbering": 1,
      "nav_menu": {},
      "number_sections": true,
      "sideBar": true,
      "skip_h1_title": true,
      "title_cell": "Table of Contents",
      "title_sidebar": "Contents",
      "toc_cell": false,
      "toc_position": {},
      "toc_section_display": true,
      "toc_window_display": false
    },
    "varInspector": {
      "cols": {
        "lenName": 16,
        "lenType": 16,
        "lenVar": 40
      },
      "kernels_config": {
        "python": {
          "delete_cmd_postfix": "",
          "delete_cmd_prefix": "del ",
          "library": "var_list.py",
          "varRefreshCmd": "print(var_dic_list())"
        },
        "r": {
          "delete_cmd_postfix": ") ",
          "delete_cmd_prefix": "rm(",
          "library": "var_list.r",
          "varRefreshCmd": "cat(var_dic_list()) "
        }
      },
      "types_to_exclude": [
        "module",
        "function",
        "builtin_function_or_method",
        "instance",
        "_Feature"
      ],
      "window_display": false
    },
    "colab": {
      "provenance": []
    }
  },
  "nbformat": 4,
  "nbformat_minor": 0
}
